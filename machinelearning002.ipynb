{
  "nbformat": 4,
  "nbformat_minor": 0,
  "metadata": {
    "colab": {
      "name": "machinelearning002.ipynb",
      "provenance": [],
      "authorship_tag": "ABX9TyNhJys4TelmDFdsgNn4C2Yz",
      "include_colab_link": true
    },
    "kernelspec": {
      "name": "python3",
      "display_name": "Python 3"
    },
    "language_info": {
      "name": "python"
    }
  },
  "cells": [
    {
      "cell_type": "markdown",
      "metadata": {
        "id": "view-in-github",
        "colab_type": "text"
      },
      "source": [
        "<a href=\"https://colab.research.google.com/github/tadashi000000/googlecolab001/blob/main/machinelearning002.ipynb\" target=\"_parent\"><img src=\"https://colab.research.google.com/assets/colab-badge.svg\" alt=\"Open In Colab\"/></a>"
      ]
    },
    {
      "cell_type": "code",
      "metadata": {
        "id": "uHebwAXD2v23"
      },
      "source": [
        "import numpy as np\n",
        "from sklearn import datasets\n",
        "from sklearn import preprocessing\n",
        "from sklearn.model_selection import train_test_split\n",
        "from keras.utils import np_utils\n",
        "\n",
        "iris = datasets.load_iris()\n",
        "\n",
        "scaler = preprocessing.StandardScaler()\n",
        "scaler.fit(iris.data)\n",
        "\n",
        "x = scaler.transform(iris.data)\n",
        "t = np_utils.to_categorical(iris.target)\n",
        "\n",
        "x_train, x_test, t_train, t_test = train_test_split(x, t, train_size=0.75)"
      ],
      "execution_count": null,
      "outputs": []
    }
  ]
}
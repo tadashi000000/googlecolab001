{
  "nbformat": 4,
  "nbformat_minor": 0,
  "metadata": {
    "colab": {
      "name": "machinelearning002.ipynb",
      "provenance": [],
      "authorship_tag": "ABX9TyPL239Tl/XoZQMEUw39HCN8",
      "include_colab_link": true
    },
    "kernelspec": {
      "name": "python3",
      "display_name": "Python 3"
    },
    "language_info": {
      "name": "python"
    }
  },
  "cells": [
    {
      "cell_type": "markdown",
      "metadata": {
        "id": "view-in-github",
        "colab_type": "text"
      },
      "source": [
        "<a href=\"https://colab.research.google.com/github/tadashi000000/googlecolab001/blob/main/machinelearning002.ipynb\" target=\"_parent\"><img src=\"https://colab.research.google.com/assets/colab-badge.svg\" alt=\"Open In Colab\"/></a>"
      ]
    },
    {
      "cell_type": "markdown",
      "metadata": {
        "id": "6zsyiKVPnYEw"
      },
      "source": [
        "データの準備"
      ]
    },
    {
      "cell_type": "code",
      "metadata": {
        "id": "uHebwAXD2v23"
      },
      "source": [
        "import numpy as np\n",
        "from sklearn import datasets\n",
        "from sklearn import preprocessing\n",
        "from sklearn.model_selection import train_test_split\n",
        "from keras.utils import np_utils\n",
        "\n",
        "iris = datasets.load_iris()\n",
        "\n",
        "scaler = preprocessing.StandardScaler()\n",
        "scaler.fit(iris.data)\n",
        "\n",
        "x = scaler.transform(iris.data)\n",
        "t = np_utils.to_categorical(iris.target)\n",
        "\n",
        "x_train, x_test, t_train, t_test = train_test_split(x, t, train_size=0.75)"
      ],
      "execution_count": 1,
      "outputs": []
    },
    {
      "cell_type": "markdown",
      "metadata": {
        "id": "sdi6wbtSndyM"
      },
      "source": [
        "モデル構築"
      ]
    },
    {
      "cell_type": "code",
      "metadata": {
        "colab": {
          "base_uri": "https://localhost:8080/"
        },
        "id": "O1jpe23el7r3",
        "outputId": "fa3148a2-a32c-45e7-885a-681a7426cfbb"
      },
      "source": [
        "from tensorflow.keras.models import Sequential\n",
        "from tensorflow.keras.layers import Dense, Activation\n",
        "\n",
        "model = Sequential()\n",
        "\n",
        "model.add(Dense(16, input_dim=4)) # 4つの特徴が入力なので、入力の数は4、ニューロン数は32\n",
        "model.add(Activation('relu')) # 活性化関数（ReLU）を追加\n",
        "\n",
        "model.add(Dense(16)) # ニューロン数32の全結合層を追加\n",
        "model.add(Activation('relu')) # 活性化関数（ReLU）を追加\n",
        "\n",
        "model.add(Dense(3)) # 3つに分類するので、ニューロン数は3\n",
        "model.add(Activation('softmax')) # 3つ以上の分類にはソフトマックス関数を使用\n",
        "\n",
        "model.compile(optimizer='sgd', loss='categorical_crossentropy', metrics=['accuracy']) # モデルのコンパイル\n",
        "\n",
        "print(model.summary())"
      ],
      "execution_count": 3,
      "outputs": [
        {
          "output_type": "stream",
          "name": "stdout",
          "text": [
            "Model: \"sequential_1\"\n",
            "_________________________________________________________________\n",
            "Layer (type)                 Output Shape              Param #   \n",
            "=================================================================\n",
            "dense_3 (Dense)              (None, 16)                80        \n",
            "_________________________________________________________________\n",
            "activation_3 (Activation)    (None, 16)                0         \n",
            "_________________________________________________________________\n",
            "dense_4 (Dense)              (None, 16)                272       \n",
            "_________________________________________________________________\n",
            "activation_4 (Activation)    (None, 16)                0         \n",
            "_________________________________________________________________\n",
            "dense_5 (Dense)              (None, 3)                 51        \n",
            "_________________________________________________________________\n",
            "activation_5 (Activation)    (None, 3)                 0         \n",
            "=================================================================\n",
            "Total params: 403\n",
            "Trainable params: 403\n",
            "Non-trainable params: 0\n",
            "_________________________________________________________________\n",
            "None\n"
          ]
        }
      ]
    },
    {
      "cell_type": "markdown",
      "metadata": {
        "id": "LMi0W1n1nrdk"
      },
      "source": [
        "学習"
      ]
    },
    {
      "cell_type": "code",
      "metadata": {
        "colab": {
          "base_uri": "https://localhost:8080/"
        },
        "id": "qtLeybzrm2K1",
        "outputId": "b2ad059b-7c5b-43a2-fdfb-8c3351378230"
      },
      "source": [
        "history = model.fit(x_train, t_train, epochs=30, batch_size=8)"
      ],
      "execution_count": 4,
      "outputs": [
        {
          "output_type": "stream",
          "name": "stdout",
          "text": [
            "Epoch 1/30\n",
            "14/14 [==============================] - 1s 2ms/step - loss: 1.0657 - accuracy: 0.3750\n",
            "Epoch 2/30\n",
            "14/14 [==============================] - 0s 1ms/step - loss: 0.9612 - accuracy: 0.5625\n",
            "Epoch 3/30\n",
            "14/14 [==============================] - 0s 1ms/step - loss: 0.8812 - accuracy: 0.6339\n",
            "Epoch 4/30\n",
            "14/14 [==============================] - 0s 2ms/step - loss: 0.8170 - accuracy: 0.6518\n",
            "Epoch 5/30\n",
            "14/14 [==============================] - 0s 2ms/step - loss: 0.7626 - accuracy: 0.6875\n",
            "Epoch 6/30\n",
            "14/14 [==============================] - 0s 2ms/step - loss: 0.7146 - accuracy: 0.7500\n",
            "Epoch 7/30\n",
            "14/14 [==============================] - 0s 1ms/step - loss: 0.6704 - accuracy: 0.7768\n",
            "Epoch 8/30\n",
            "14/14 [==============================] - 0s 2ms/step - loss: 0.6316 - accuracy: 0.8125\n",
            "Epoch 9/30\n",
            "14/14 [==============================] - 0s 1ms/step - loss: 0.5965 - accuracy: 0.8125\n",
            "Epoch 10/30\n",
            "14/14 [==============================] - 0s 2ms/step - loss: 0.5656 - accuracy: 0.8214\n",
            "Epoch 11/30\n",
            "14/14 [==============================] - 0s 1ms/step - loss: 0.5379 - accuracy: 0.8304\n",
            "Epoch 12/30\n",
            "14/14 [==============================] - 0s 1ms/step - loss: 0.5130 - accuracy: 0.8304\n",
            "Epoch 13/30\n",
            "14/14 [==============================] - 0s 2ms/step - loss: 0.4910 - accuracy: 0.8304\n",
            "Epoch 14/30\n",
            "14/14 [==============================] - 0s 1ms/step - loss: 0.4705 - accuracy: 0.8661\n",
            "Epoch 15/30\n",
            "14/14 [==============================] - 0s 1ms/step - loss: 0.4521 - accuracy: 0.8571\n",
            "Epoch 16/30\n",
            "14/14 [==============================] - 0s 1ms/step - loss: 0.4352 - accuracy: 0.8839\n",
            "Epoch 17/30\n",
            "14/14 [==============================] - 0s 1ms/step - loss: 0.4195 - accuracy: 0.8929\n",
            "Epoch 18/30\n",
            "14/14 [==============================] - 0s 2ms/step - loss: 0.4057 - accuracy: 0.8929\n",
            "Epoch 19/30\n",
            "14/14 [==============================] - 0s 2ms/step - loss: 0.3920 - accuracy: 0.8929\n",
            "Epoch 20/30\n",
            "14/14 [==============================] - 0s 2ms/step - loss: 0.3799 - accuracy: 0.9018\n",
            "Epoch 21/30\n",
            "14/14 [==============================] - 0s 2ms/step - loss: 0.3679 - accuracy: 0.9018\n",
            "Epoch 22/30\n",
            "14/14 [==============================] - 0s 2ms/step - loss: 0.3567 - accuracy: 0.9107\n",
            "Epoch 23/30\n",
            "14/14 [==============================] - 0s 2ms/step - loss: 0.3467 - accuracy: 0.9196\n",
            "Epoch 24/30\n",
            "14/14 [==============================] - 0s 2ms/step - loss: 0.3371 - accuracy: 0.9196\n",
            "Epoch 25/30\n",
            "14/14 [==============================] - 0s 2ms/step - loss: 0.3273 - accuracy: 0.9375\n",
            "Epoch 26/30\n",
            "14/14 [==============================] - 0s 2ms/step - loss: 0.3191 - accuracy: 0.9286\n",
            "Epoch 27/30\n",
            "14/14 [==============================] - 0s 2ms/step - loss: 0.3114 - accuracy: 0.9375\n",
            "Epoch 28/30\n",
            "14/14 [==============================] - 0s 1ms/step - loss: 0.3030 - accuracy: 0.9464\n",
            "Epoch 29/30\n",
            "14/14 [==============================] - 0s 2ms/step - loss: 0.2955 - accuracy: 0.9375\n",
            "Epoch 30/30\n",
            "14/14 [==============================] - 0s 1ms/step - loss: 0.2882 - accuracy: 0.9464\n"
          ]
        }
      ]
    },
    {
      "cell_type": "markdown",
      "metadata": {
        "id": "kd_B84h-nyWy"
      },
      "source": [
        "学習の推移"
      ]
    },
    {
      "cell_type": "code",
      "metadata": {
        "colab": {
          "base_uri": "https://localhost:8080/",
          "height": 268
        },
        "id": "0BWTTDnFm8OP",
        "outputId": "636cc6ca-adcc-4216-df89-a26efdf7f228"
      },
      "source": [
        "import matplotlib.pyplot as plt\n",
        "\n",
        "hist_loss = history.history['loss']  # 訓練用データの誤差\n",
        "hist_acc = history.history['accuracy']  # 訓練用データの精度（正解率）\n",
        "\n",
        "plt.plot(np.arange(len(hist_loss)), hist_loss, label='loss')  # 誤差\n",
        "plt.plot(np.arange(len(hist_acc)), hist_acc, label='accuracy')  # 精度（正解率）\n",
        "plt.legend()\n",
        "plt.show()"
      ],
      "execution_count": 5,
      "outputs": [
        {
          "output_type": "display_data",
          "data": {
            "image/png": "[encoded data removed]",
            "text/plain": [
              "<Figure size 432x288 with 1 Axes>"
            ]
          },
          "metadata": {
            "needs_background": "light"
          }
        }
      ]
    },
    {
      "cell_type": "markdown",
      "metadata": {
        "id": "p8UrImiUn3YU"
      },
      "source": [
        "評価"
      ]
    },
    {
      "cell_type": "code",
      "metadata": {
        "colab": {
          "base_uri": "https://localhost:8080/"
        },
        "id": "Pn26xi4knFXG",
        "outputId": "6eb9903d-f4f2-4149-93fc-4de30fe0ccdb"
      },
      "source": [
        "loss, accuracy = model.evaluate(x_test, t_test)\n",
        "print(\"誤差:\", loss, \"精度\", accuracy)"
      ],
      "execution_count": 6,
      "outputs": [
        {
          "output_type": "stream",
          "name": "stdout",
          "text": [
            "2/2 [==============================] - 0s 6ms/step - loss: 0.2875 - accuracy: 0.9211\n",
            "誤差: 0.28753265738487244 精度 0.9210526347160339\n"
          ]
        }
      ]
    },
    {
      "cell_type": "markdown",
      "metadata": {
        "id": "LEGdZxzwn5dM"
      },
      "source": [
        "予測"
      ]
    },
    {
      "cell_type": "code",
      "metadata": {
        "colab": {
          "base_uri": "https://localhost:8080/"
        },
        "id": "HDQ1-5CmnQF-",
        "outputId": "01a9450a-bab9-4038-dd41-c0b651146784"
      },
      "source": [
        "y_test = model.predict(x_test)\n",
        "print(y_test)"
      ],
      "execution_count": 7,
      "outputs": [
        {
          "output_type": "stream",
          "name": "stdout",
          "text": [
            "[[0.94240415 0.04537014 0.01222571]\n",
            " [0.9580541  0.03371584 0.00823002]\n",
            " [0.9665178  0.02669417 0.0067881 ]\n",
            " [0.9444044  0.04786326 0.00773234]\n",
            " [0.00496254 0.17397201 0.8210654 ]\n",
            " [0.01734674 0.2850205  0.6976328 ]\n",
            " [0.9550353  0.03962902 0.00533561]\n",
            " [0.00602077 0.17787255 0.8161067 ]\n",
            " [0.09861405 0.5322466  0.36913934]\n",
            " [0.00228168 0.07215272 0.92556554]\n",
            " [0.0113311  0.27168185 0.7169871 ]\n",
            " [0.15824942 0.6349507  0.20679985]\n",
            " [0.9372987  0.0501465  0.01255473]\n",
            " [0.00386055 0.07640982 0.9197296 ]\n",
            " [0.9508221  0.0424027  0.00677519]\n",
            " [0.00562413 0.1358819  0.858494  ]\n",
            " [0.03048568 0.58858794 0.3809264 ]\n",
            " [0.01778914 0.38098854 0.6012223 ]\n",
            " [0.10338517 0.5557637  0.34085113]\n",
            " [0.9786388  0.01711684 0.00424435]\n",
            " [0.05565879 0.45242092 0.49192026]\n",
            " [0.96398896 0.0289133  0.00709766]\n",
            " [0.9315881  0.05984922 0.00856276]\n",
            " [0.0010206  0.06235062 0.93662876]\n",
            " [0.22943781 0.6773276  0.09323455]\n",
            " [0.2099205  0.67263055 0.11744902]\n",
            " [0.0037738  0.10125599 0.89497024]\n",
            " [0.12570912 0.58913845 0.28515247]\n",
            " [0.01735805 0.24448399 0.738158  ]\n",
            " [0.02760418 0.5802337  0.39216205]\n",
            " [0.00568803 0.13188216 0.8624298 ]\n",
            " [0.9680687  0.02541244 0.00651887]\n",
            " [0.06258613 0.6503245  0.2870894 ]\n",
            " [0.9351819  0.05174692 0.01307117]\n",
            " [0.00796232 0.16801414 0.8240236 ]\n",
            " [0.14893039 0.7767763  0.0742932 ]\n",
            " [0.02339855 0.32563165 0.65096974]\n",
            " [0.02339855 0.32563165 0.65096974]]\n"
          ]
        }
      ]
    }
  ]
}
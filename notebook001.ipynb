{
  "nbformat": 4,
  "nbformat_minor": 0,
  "metadata": {
    "colab": {
      "name": "notebook001.ipynb",
      "provenance": [],
      "toc_visible": true,
      "authorship_tag": "ABX9TyNoWxxrKN1OJ7S1akWH6dsE",
      "include_colab_link": true
    },
    "kernelspec": {
      "name": "python3",
      "display_name": "Python 3"
    },
    "language_info": {
      "name": "python"
    }
  },
  "cells": [
    {
      "cell_type": "markdown",
      "metadata": {
        "id": "view-in-github",
        "colab_type": "text"
      },
      "source": [
        "<a href=\"https://colab.research.google.com/github/tadashi000000/googlecolab001/blob/main/notebook001.ipynb\" target=\"_parent\"><img src=\"https://colab.research.google.com/assets/colab-badge.svg\" alt=\"Open In Colab\"/></a>"
      ]
    },
    {
      "cell_type": "code",
      "metadata": {
        "colab": {
          "base_uri": "https://localhost:8080/"
        },
        "id": "JL_pk8Q6ozqa",
        "outputId": "8fd4b044-74a1-464c-ac08-b4a08b3a5112"
      },
      "source": [
        "print(\"hello\")"
      ],
      "execution_count": null,
      "outputs": [
        {
          "output_type": "stream",
          "name": "stdout",
          "text": [
            "hello\n"
          ]
        }
      ]
    },
    {
      "cell_type": "code",
      "metadata": {
        "colab": {
          "base_uri": "https://localhost:8080/"
        },
        "id": "uSQRaNt15PuJ",
        "outputId": "f7703222-9e9c-4051-eddf-36ed1eb7b386"
      },
      "source": [
        "!python --version"
      ],
      "execution_count": null,
      "outputs": [
        {
          "output_type": "stream",
          "name": "stdout",
          "text": [
            "Python 3.7.12\n"
          ]
        }
      ]
    },
    {
      "cell_type": "code",
      "metadata": {
        "id": "VQM9X67H5UY1",
        "colab": {
          "base_uri": "https://localhost:8080/"
        },
        "outputId": "c65be547-5a97-4530-94fb-3804cf72496d"
      },
      "source": [
        "print([1,2,3])"
      ],
      "execution_count": 1,
      "outputs": [
        {
          "output_type": "stream",
          "name": "stdout",
          "text": [
            "[1, 2, 3]\n"
          ]
        }
      ]
    },
    {
      "cell_type": "code",
      "metadata": {
        "colab": {
          "base_uri": "https://localhost:8080/"
        },
        "id": "rm827_Cadv2G",
        "outputId": "cad4dd0b-3fa1-457c-f2f5-019db716d4b7"
      },
      "source": [
        "print(1,2,3)"
      ],
      "execution_count": 2,
      "outputs": [
        {
          "output_type": "stream",
          "name": "stdout",
          "text": [
            "1 2 3\n"
          ]
        }
      ]
    },
    {
      "cell_type": "code",
      "metadata": {
        "colab": {
          "base_uri": "https://localhost:8080/"
        },
        "id": "Vcxr7my7d5Ya",
        "outputId": "2e4f3c58-63f2-4802-9f37-2696ca908a69"
      },
      "source": [
        "print(100,)"
      ],
      "execution_count": 3,
      "outputs": [
        {
          "output_type": "stream",
          "name": "stdout",
          "text": [
            "100\n"
          ]
        }
      ]
    },
    {
      "cell_type": "code",
      "metadata": {
        "colab": {
          "base_uri": "https://localhost:8080/"
        },
        "id": "ZDa_zNHdeDAB",
        "outputId": "bd7facfe-5a23-447d-a307-aa72a7a34af6"
      },
      "source": [
        "print([100,])"
      ],
      "execution_count": 4,
      "outputs": [
        {
          "output_type": "stream",
          "name": "stdout",
          "text": [
            "[100]\n"
          ]
        }
      ]
    },
    {
      "cell_type": "code",
      "metadata": {
        "colab": {
          "base_uri": "https://localhost:8080/"
        },
        "id": "DvFNFB43eIAS",
        "outputId": "58c6da68-5947-472e-b95d-3be73bad7005"
      },
      "source": [
        "list001=[100,200,300]\n",
        "(a1,a2,a3)=list001\n",
        "print(a1,a2,a3)"
      ],
      "execution_count": 5,
      "outputs": [
        {
          "output_type": "stream",
          "name": "stdout",
          "text": [
            "100 200 300\n"
          ]
        }
      ]
    },
    {
      "cell_type": "code",
      "metadata": {
        "colab": {
          "base_uri": "https://localhost:8080/"
        },
        "id": "WlvbE3xJe_fA",
        "outputId": "5cc11fe4-16f4-42e4-e905-84bacc08216f"
      },
      "source": [
        "dic001={\"k1\":1,\"k2\":2}\n",
        "print(dic001[\"k2\"])"
      ],
      "execution_count": 6,
      "outputs": [
        {
          "output_type": "stream",
          "name": "stdout",
          "text": [
            "2\n"
          ]
        }
      ]
    },
    {
      "cell_type": "code",
      "metadata": {
        "colab": {
          "base_uri": "https://localhost:8080/"
        },
        "id": "_RrZu0qdfuPW",
        "outputId": "558284a3-bf15-4d93-b7cd-f18e5bb5e377"
      },
      "source": [
        "taple001=(1,2,3)\n",
        "print(taple001)"
      ],
      "execution_count": 8,
      "outputs": [
        {
          "output_type": "stream",
          "name": "stdout",
          "text": [
            "(1, 2, 3)\n"
          ]
        }
      ]
    },
    {
      "cell_type": "code",
      "metadata": {
        "colab": {
          "base_uri": "https://localhost:8080/"
        },
        "id": "VKuDWI44gOmG",
        "outputId": "5d59cf89-e29c-4953-be42-d9ad870c4776"
      },
      "source": [
        "print(1,2,)"
      ],
      "execution_count": 11,
      "outputs": [
        {
          "output_type": "stream",
          "name": "stdout",
          "text": [
            "1 2\n"
          ]
        }
      ]
    },
    {
      "cell_type": "code",
      "metadata": {
        "colab": {
          "base_uri": "https://localhost:8080/"
        },
        "id": "xPKa2H-hgYJm",
        "outputId": "75358f44-cc24-49b1-9226-d6ccbf4ebd63"
      },
      "source": [
        "list001 = [1,2,3]\n",
        "set001 = set(list001)\n",
        "set001.add(6)\n",
        "set001.remove(3)\n",
        "print(set001)"
      ],
      "execution_count": 12,
      "outputs": [
        {
          "output_type": "stream",
          "name": "stdout",
          "text": [
            "{1, 2, 6}\n"
          ]
        }
      ]
    },
    {
      "cell_type": "code",
      "metadata": {
        "colab": {
          "base_uri": "https://localhost:8080/"
        },
        "id": "xot6nYHT0jfl",
        "outputId": "25f12bdf-118e-4c6a-d48b-ab075d42da00"
      },
      "source": [
        "if True:\n",
        "  print(\"true\")\n",
        "else:\n",
        "  print(\"false\")\n"
      ],
      "execution_count": 13,
      "outputs": [
        {
          "output_type": "stream",
          "name": "stdout",
          "text": [
            "true\n"
          ]
        }
      ]
    },
    {
      "cell_type": "code",
      "metadata": {
        "colab": {
          "base_uri": "https://localhost:8080/"
        },
        "id": "7QMjrBgb1dSg",
        "outputId": "0d93f1d2-738d-4eaa-eb33-9f0c9e5c8ce3"
      },
      "source": [
        "end=5\n",
        "for i in range(end):\n",
        "  print(i)"
      ],
      "execution_count": 16,
      "outputs": [
        {
          "output_type": "stream",
          "name": "stdout",
          "text": [
            "0\n",
            "1\n",
            "2\n",
            "3\n",
            "4\n"
          ]
        }
      ]
    },
    {
      "cell_type": "code",
      "metadata": {
        "colab": {
          "base_uri": "https://localhost:8080/"
        },
        "id": "4xKhZUEA16Rn",
        "outputId": "df34da76-49c0-4f9e-ab6a-6bf977beba57"
      },
      "source": [
        "start=3\n",
        "end=5\n",
        "for i in range(start,end):\n",
        "  print(i)"
      ],
      "execution_count": 15,
      "outputs": [
        {
          "output_type": "stream",
          "name": "stdout",
          "text": [
            "3\n",
            "4\n"
          ]
        }
      ]
    },
    {
      "cell_type": "code",
      "metadata": {
        "colab": {
          "base_uri": "https://localhost:8080/"
        },
        "id": "HBCP-APZ2MPe",
        "outputId": "88be8aba-6107-4827-d8d9-04bd3b77b20e"
      },
      "source": [
        "start=1\n",
        "end=5\n",
        "step=2\n",
        "for i in range(start,end,step):\n",
        "  print(i)"
      ],
      "execution_count": 17,
      "outputs": [
        {
          "output_type": "stream",
          "name": "stdout",
          "text": [
            "1\n",
            "3\n"
          ]
        }
      ]
    },
    {
      "cell_type": "code",
      "metadata": {
        "colab": {
          "base_uri": "https://localhost:8080/"
        },
        "id": "y2Q8fIgd2cnF",
        "outputId": "77af054d-e11a-4411-f881-3a9272155048"
      },
      "source": [
        "print(range(5))"
      ],
      "execution_count": 18,
      "outputs": [
        {
          "output_type": "stream",
          "name": "stdout",
          "text": [
            "range(0, 5)\n"
          ]
        }
      ]
    },
    {
      "cell_type": "code",
      "metadata": {
        "colab": {
          "base_uri": "https://localhost:8080/"
        },
        "id": "q0tqWj5x2oV2",
        "outputId": "8b3767e3-0945-4069-c893-02d21b985e5d"
      },
      "source": [
        "for i in [10,20,30]:\n",
        "  print(i)"
      ],
      "execution_count": 20,
      "outputs": [
        {
          "output_type": "stream",
          "name": "stdout",
          "text": [
            "10\n",
            "20\n",
            "30\n"
          ]
        }
      ]
    },
    {
      "cell_type": "code",
      "metadata": {
        "colab": {
          "base_uri": "https://localhost:8080/"
        },
        "id": "_G3TLpiw23Sd",
        "outputId": "6eae5d10-9dad-4a2f-be70-cbcadedc4ed6"
      },
      "source": [
        "i=0\n",
        "while True:\n",
        "  print(i)\n",
        "  if i>3:\n",
        "    break\n",
        "  i+=1"
      ],
      "execution_count": 22,
      "outputs": [
        {
          "output_type": "stream",
          "name": "stdout",
          "text": [
            "0\n",
            "1\n",
            "2\n",
            "3\n",
            "4\n"
          ]
        }
      ]
    },
    {
      "cell_type": "code",
      "metadata": {
        "colab": {
          "base_uri": "https://localhost:8080/"
        },
        "id": "09fJhlbG3pgr",
        "outputId": "47af92d9-eb2a-47fa-ed8e-502b2bcadb0b"
      },
      "source": [
        "#内包\n",
        "list001=[x*2 for x in [1,2,3]]\n",
        "print(list001)"
      ],
      "execution_count": 23,
      "outputs": [
        {
          "output_type": "stream",
          "name": "stdout",
          "text": [
            "[2, 4, 6]\n"
          ]
        }
      ]
    },
    {
      "cell_type": "code",
      "metadata": {
        "colab": {
          "base_uri": "https://localhost:8080/"
        },
        "id": "0sxEeThO4enq",
        "outputId": "a4f9daf0-0205-41d9-9a5e-1a79846b794d"
      },
      "source": [
        "#内包(range)\n",
        "list001=[x*2 for x in range(3)]\n",
        "print(list001)"
      ],
      "execution_count": 24,
      "outputs": [
        {
          "output_type": "stream",
          "name": "stdout",
          "text": [
            "[0, 2, 4]\n"
          ]
        }
      ]
    },
    {
      "cell_type": "code",
      "metadata": {
        "colab": {
          "base_uri": "https://localhost:8080/"
        },
        "id": "tl_JdTQq50Yw",
        "outputId": "300986aa-38ac-4333-8c07-e9c5006eecc3"
      },
      "source": [
        "#関数\n",
        "def func(x):\n",
        "  return x*2\n",
        "\n",
        "print(func(10))"
      ],
      "execution_count": 26,
      "outputs": [
        {
          "output_type": "stream",
          "name": "stdout",
          "text": [
            "20\n"
          ]
        }
      ]
    },
    {
      "cell_type": "code",
      "metadata": {
        "colab": {
          "base_uri": "https://localhost:8080/"
        },
        "id": "ctElxYnY6b0m",
        "outputId": "1fdd8b3a-527e-45be-d8dc-c5c9927cf5e7"
      },
      "source": [
        "#関数(デフォルト値)\n",
        "def func(x=100):\n",
        "  return x*2\n",
        "\n",
        "print(func())"
      ],
      "execution_count": 27,
      "outputs": [
        {
          "output_type": "stream",
          "name": "stdout",
          "text": [
            "200\n"
          ]
        }
      ]
    },
    {
      "cell_type": "code",
      "metadata": {
        "colab": {
          "base_uri": "https://localhost:8080/"
        },
        "id": "R44QZ2Ip6oN-",
        "outputId": "e18892db-b810-4e5d-a4fe-c2f365a1942b"
      },
      "source": [
        "#関数(タプル使用)\n",
        "def func(x,y):\n",
        "  return x+y\n",
        "\n",
        "tap001=(10,20)\n",
        "print(func(*tap001))"
      ],
      "execution_count": 29,
      "outputs": [
        {
          "output_type": "stream",
          "name": "stdout",
          "text": [
            "30\n"
          ]
        }
      ]
    },
    {
      "cell_type": "code",
      "metadata": {
        "id": "G1Fflzs47XUs"
      },
      "source": [
        ""
      ],
      "execution_count": null,
      "outputs": []
    }
  ]
}
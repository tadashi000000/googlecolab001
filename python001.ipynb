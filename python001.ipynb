{
  "nbformat": 4,
  "nbformat_minor": 0,
  "metadata": {
    "colab": {
      "name": "notebook001.ipynb",
      "provenance": [],
      "collapsed_sections": [],
      "authorship_tag": "ABX9TyOpk0UyI9yDqSlNpla8XTdU",
      "include_colab_link": true
    },
    "kernelspec": {
      "name": "python3",
      "display_name": "Python 3"
    },
    "language_info": {
      "name": "python"
    }
  },
  "cells": [
    {
      "cell_type": "markdown",
      "metadata": {
        "id": "view-in-github",
        "colab_type": "text"
      },
      "source": [
        "<a href=\"https://colab.research.google.com/github/tadashi000000/googlecolab001/blob/main/notebook001.ipynb\" target=\"_parent\"><img src=\"https://colab.research.google.com/assets/colab-badge.svg\" alt=\"Open In Colab\"/></a>"
      ]
    },
    {
      "cell_type": "code",
      "metadata": {
        "colab": {
          "base_uri": "https://localhost:8080/"
        },
        "id": "JL_pk8Q6ozqa",
        "outputId": "8fd4b044-74a1-464c-ac08-b4a08b3a5112"
      },
      "source": [
        "#出力\n",
        "print(\"hello\")"
      ],
      "execution_count": null,
      "outputs": [
        {
          "output_type": "stream",
          "name": "stdout",
          "text": [
            "hello\n"
          ]
        }
      ]
    },
    {
      "cell_type": "code",
      "metadata": {
        "colab": {
          "base_uri": "https://localhost:8080/"
        },
        "id": "uSQRaNt15PuJ",
        "outputId": "f7703222-9e9c-4051-eddf-36ed1eb7b386"
      },
      "source": [
        "#バージョン\n",
        "!python --version"
      ],
      "execution_count": null,
      "outputs": [
        {
          "output_type": "stream",
          "name": "stdout",
          "text": [
            "Python 3.7.12\n"
          ]
        }
      ]
    },
    {
      "cell_type": "code",
      "metadata": {
        "id": "VQM9X67H5UY1",
        "colab": {
          "base_uri": "https://localhost:8080/"
        },
        "outputId": "c65be547-5a97-4530-94fb-3804cf72496d"
      },
      "source": [
        "#リスト\n",
        "print([1,2,3])"
      ],
      "execution_count": 1,
      "outputs": [
        {
          "output_type": "stream",
          "name": "stdout",
          "text": [
            "[1, 2, 3]\n"
          ]
        }
      ]
    },
    {
      "cell_type": "code",
      "metadata": {
        "colab": {
          "base_uri": "https://localhost:8080/"
        },
        "id": "rm827_Cadv2G",
        "outputId": "cad4dd0b-3fa1-457c-f2f5-019db716d4b7"
      },
      "source": [
        "print(1,2,3)"
      ],
      "execution_count": 2,
      "outputs": [
        {
          "output_type": "stream",
          "name": "stdout",
          "text": [
            "1 2 3\n"
          ]
        }
      ]
    },
    {
      "cell_type": "code",
      "metadata": {
        "colab": {
          "base_uri": "https://localhost:8080/"
        },
        "id": "Vcxr7my7d5Ya",
        "outputId": "2e4f3c58-63f2-4802-9f37-2696ca908a69"
      },
      "source": [
        "print(100,)"
      ],
      "execution_count": 3,
      "outputs": [
        {
          "output_type": "stream",
          "name": "stdout",
          "text": [
            "100\n"
          ]
        }
      ]
    },
    {
      "cell_type": "code",
      "metadata": {
        "colab": {
          "base_uri": "https://localhost:8080/"
        },
        "id": "ZDa_zNHdeDAB",
        "outputId": "bd7facfe-5a23-447d-a307-aa72a7a34af6"
      },
      "source": [
        "print([100,])"
      ],
      "execution_count": 4,
      "outputs": [
        {
          "output_type": "stream",
          "name": "stdout",
          "text": [
            "[100]\n"
          ]
        }
      ]
    },
    {
      "cell_type": "code",
      "metadata": {
        "id": "kh23_oIF8OVy"
      },
      "source": [
        ""
      ],
      "execution_count": null,
      "outputs": []
    },
    {
      "cell_type": "code",
      "metadata": {
        "colab": {
          "base_uri": "https://localhost:8080/"
        },
        "id": "DvFNFB43eIAS",
        "outputId": "58c6da68-5947-472e-b95d-3be73bad7005"
      },
      "source": [
        "list001=[100,200,300]\n",
        "(a1,a2,a3)=list001\n",
        "print(a1,a2,a3)"
      ],
      "execution_count": 5,
      "outputs": [
        {
          "output_type": "stream",
          "name": "stdout",
          "text": [
            "100 200 300\n"
          ]
        }
      ]
    },
    {
      "cell_type": "code",
      "metadata": {
        "colab": {
          "base_uri": "https://localhost:8080/"
        },
        "id": "WlvbE3xJe_fA",
        "outputId": "5cc11fe4-16f4-42e4-e905-84bacc08216f"
      },
      "source": [
        "#辞書\n",
        "dic001={\"k1\":1,\"k2\":2}\n",
        "print(dic001[\"k2\"])"
      ],
      "execution_count": 6,
      "outputs": [
        {
          "output_type": "stream",
          "name": "stdout",
          "text": [
            "2\n"
          ]
        }
      ]
    },
    {
      "cell_type": "code",
      "metadata": {
        "colab": {
          "base_uri": "https://localhost:8080/"
        },
        "id": "_RrZu0qdfuPW",
        "outputId": "558284a3-bf15-4d93-b7cd-f18e5bb5e377"
      },
      "source": [
        "#タプル\n",
        "taple001=(1,2,3)\n",
        "print(taple001)"
      ],
      "execution_count": 8,
      "outputs": [
        {
          "output_type": "stream",
          "name": "stdout",
          "text": [
            "(1, 2, 3)\n"
          ]
        }
      ]
    },
    {
      "cell_type": "code",
      "metadata": {
        "colab": {
          "base_uri": "https://localhost:8080/"
        },
        "id": "VKuDWI44gOmG",
        "outputId": "5d59cf89-e29c-4953-be42-d9ad870c4776"
      },
      "source": [
        "print(1,2,)"
      ],
      "execution_count": 11,
      "outputs": [
        {
          "output_type": "stream",
          "name": "stdout",
          "text": [
            "1 2\n"
          ]
        }
      ]
    },
    {
      "cell_type": "code",
      "metadata": {
        "colab": {
          "base_uri": "https://localhost:8080/"
        },
        "id": "xPKa2H-hgYJm",
        "outputId": "75358f44-cc24-49b1-9226-d6ccbf4ebd63"
      },
      "source": [
        "list001 = [1,2,3]\n",
        "set001 = set(list001)\n",
        "set001.add(6)\n",
        "set001.remove(3)\n",
        "print(set001)"
      ],
      "execution_count": 12,
      "outputs": [
        {
          "output_type": "stream",
          "name": "stdout",
          "text": [
            "{1, 2, 6}\n"
          ]
        }
      ]
    },
    {
      "cell_type": "code",
      "metadata": {
        "colab": {
          "base_uri": "https://localhost:8080/"
        },
        "id": "xot6nYHT0jfl",
        "outputId": "25f12bdf-118e-4c6a-d48b-ab075d42da00"
      },
      "source": [
        "#条件分岐\n",
        "if True:\n",
        "  print(\"true\")\n",
        "else:\n",
        "  print(\"false\")\n"
      ],
      "execution_count": 13,
      "outputs": [
        {
          "output_type": "stream",
          "name": "stdout",
          "text": [
            "true\n"
          ]
        }
      ]
    },
    {
      "cell_type": "code",
      "metadata": {
        "colab": {
          "base_uri": "https://localhost:8080/"
        },
        "id": "7QMjrBgb1dSg",
        "outputId": "0d93f1d2-738d-4eaa-eb33-9f0c9e5c8ce3"
      },
      "source": [
        "#for文\n",
        "end=5\n",
        "for i in range(end):\n",
        "  print(i)"
      ],
      "execution_count": 16,
      "outputs": [
        {
          "output_type": "stream",
          "name": "stdout",
          "text": [
            "0\n",
            "1\n",
            "2\n",
            "3\n",
            "4\n"
          ]
        }
      ]
    },
    {
      "cell_type": "code",
      "metadata": {
        "colab": {
          "base_uri": "https://localhost:8080/"
        },
        "id": "4xKhZUEA16Rn",
        "outputId": "df34da76-49c0-4f9e-ab6a-6bf977beba57"
      },
      "source": [
        "#for文(開始)\n",
        "start=3\n",
        "end=5\n",
        "for i in range(start,end):\n",
        "  print(i)"
      ],
      "execution_count": 15,
      "outputs": [
        {
          "output_type": "stream",
          "name": "stdout",
          "text": [
            "3\n",
            "4\n"
          ]
        }
      ]
    },
    {
      "cell_type": "code",
      "metadata": {
        "colab": {
          "base_uri": "https://localhost:8080/"
        },
        "id": "HBCP-APZ2MPe",
        "outputId": "88be8aba-6107-4827-d8d9-04bd3b77b20e"
      },
      "source": [
        "#for文(ステップ)\n",
        "start=1\n",
        "end=5\n",
        "step=2\n",
        "for i in range(start,end,step):\n",
        "  print(i)"
      ],
      "execution_count": 17,
      "outputs": [
        {
          "output_type": "stream",
          "name": "stdout",
          "text": [
            "1\n",
            "3\n"
          ]
        }
      ]
    },
    {
      "cell_type": "code",
      "metadata": {
        "colab": {
          "base_uri": "https://localhost:8080/"
        },
        "id": "y2Q8fIgd2cnF",
        "outputId": "77af054d-e11a-4411-f881-3a9272155048"
      },
      "source": [
        "print(range(5))"
      ],
      "execution_count": 18,
      "outputs": [
        {
          "output_type": "stream",
          "name": "stdout",
          "text": [
            "range(0, 5)\n"
          ]
        }
      ]
    },
    {
      "cell_type": "code",
      "metadata": {
        "colab": {
          "base_uri": "https://localhost:8080/"
        },
        "id": "q0tqWj5x2oV2",
        "outputId": "8b3767e3-0945-4069-c893-02d21b985e5d"
      },
      "source": [
        "#for文(リスト使用)\n",
        "for i in [10,20,30]:\n",
        "  print(i)"
      ],
      "execution_count": 20,
      "outputs": [
        {
          "output_type": "stream",
          "name": "stdout",
          "text": [
            "10\n",
            "20\n",
            "30\n"
          ]
        }
      ]
    },
    {
      "cell_type": "code",
      "metadata": {
        "colab": {
          "base_uri": "https://localhost:8080/"
        },
        "id": "_G3TLpiw23Sd",
        "outputId": "6eae5d10-9dad-4a2f-be70-cbcadedc4ed6"
      },
      "source": [
        "#while文\n",
        "i=0\n",
        "while True:\n",
        "  print(i)\n",
        "  if i>3:\n",
        "    break\n",
        "  i+=1"
      ],
      "execution_count": 22,
      "outputs": [
        {
          "output_type": "stream",
          "name": "stdout",
          "text": [
            "0\n",
            "1\n",
            "2\n",
            "3\n",
            "4\n"
          ]
        }
      ]
    },
    {
      "cell_type": "code",
      "metadata": {
        "colab": {
          "base_uri": "https://localhost:8080/"
        },
        "id": "09fJhlbG3pgr",
        "outputId": "47af92d9-eb2a-47fa-ed8e-502b2bcadb0b"
      },
      "source": [
        "#内包\n",
        "list001=[x*2 for x in [1,2,3]]\n",
        "print(list001)"
      ],
      "execution_count": 23,
      "outputs": [
        {
          "output_type": "stream",
          "name": "stdout",
          "text": [
            "[2, 4, 6]\n"
          ]
        }
      ]
    },
    {
      "cell_type": "code",
      "metadata": {
        "colab": {
          "base_uri": "https://localhost:8080/"
        },
        "id": "0sxEeThO4enq",
        "outputId": "a4f9daf0-0205-41d9-9a5e-1a79846b794d"
      },
      "source": [
        "#内包(range)\n",
        "list001=[x*2 for x in range(3)]\n",
        "print(list001)"
      ],
      "execution_count": 24,
      "outputs": [
        {
          "output_type": "stream",
          "name": "stdout",
          "text": [
            "[0, 2, 4]\n"
          ]
        }
      ]
    },
    {
      "cell_type": "code",
      "metadata": {
        "colab": {
          "base_uri": "https://localhost:8080/"
        },
        "id": "tl_JdTQq50Yw",
        "outputId": "300986aa-38ac-4333-8c07-e9c5006eecc3"
      },
      "source": [
        "#関数\n",
        "def func(x):\n",
        "  return x*2\n",
        "\n",
        "print(func(10))"
      ],
      "execution_count": 26,
      "outputs": [
        {
          "output_type": "stream",
          "name": "stdout",
          "text": [
            "20\n"
          ]
        }
      ]
    },
    {
      "cell_type": "code",
      "metadata": {
        "colab": {
          "base_uri": "https://localhost:8080/"
        },
        "id": "ctElxYnY6b0m",
        "outputId": "1fdd8b3a-527e-45be-d8dc-c5c9927cf5e7"
      },
      "source": [
        "#関数(デフォルト値)\n",
        "def func(x=100):\n",
        "  return x*2\n",
        "\n",
        "print(func())"
      ],
      "execution_count": 27,
      "outputs": [
        {
          "output_type": "stream",
          "name": "stdout",
          "text": [
            "200\n"
          ]
        }
      ]
    },
    {
      "cell_type": "code",
      "metadata": {
        "colab": {
          "base_uri": "https://localhost:8080/"
        },
        "id": "R44QZ2Ip6oN-",
        "outputId": "e18892db-b810-4e5d-a4fe-c2f365a1942b"
      },
      "source": [
        "#関数(タプル使用)\n",
        "def func(x,y):\n",
        "  return x+y\n",
        "\n",
        "tap001=(10,20)\n",
        "print(func(*tap001))"
      ],
      "execution_count": 29,
      "outputs": [
        {
          "output_type": "stream",
          "name": "stdout",
          "text": [
            "30\n"
          ]
        }
      ]
    },
    {
      "cell_type": "code",
      "metadata": {
        "colab": {
          "base_uri": "https://localhost:8080/",
          "height": 330
        },
        "id": "G1Fflzs47XUs",
        "outputId": "9e6e5352-6e97-4a32-d402-f904d9b709eb"
      },
      "source": [
        "#グローバル変数(エラーケース)\n",
        "g_a=100\n",
        "def func001():\n",
        "  print(g_a)\n",
        "  g_a=200\n",
        "\n",
        "func001()"
      ],
      "execution_count": 37,
      "outputs": [
        {
          "output_type": "error",
          "ename": "UnboundLocalError",
          "evalue": "ignored",
          "traceback": [
            "\u001b[0;31m---------------------------------------------------------------------------\u001b[0m",
            "\u001b[0;31mUnboundLocalError\u001b[0m                         Traceback (most recent call last)",
            "\u001b[0;32m<ipython-input-37-318873684b14>\u001b[0m in \u001b[0;36m<module>\u001b[0;34m()\u001b[0m\n\u001b[1;32m      5\u001b[0m   \u001b[0mg_a\u001b[0m\u001b[0;34m=\u001b[0m\u001b[0;36m200\u001b[0m\u001b[0;34m\u001b[0m\u001b[0;34m\u001b[0m\u001b[0m\n\u001b[1;32m      6\u001b[0m \u001b[0;34m\u001b[0m\u001b[0m\n\u001b[0;32m----> 7\u001b[0;31m \u001b[0mfunc001\u001b[0m\u001b[0;34m(\u001b[0m\u001b[0;34m)\u001b[0m\u001b[0;34m\u001b[0m\u001b[0;34m\u001b[0m\u001b[0m\n\u001b[0m",
            "\u001b[0;32m<ipython-input-37-318873684b14>\u001b[0m in \u001b[0;36mfunc001\u001b[0;34m()\u001b[0m\n\u001b[1;32m      2\u001b[0m \u001b[0mg_a\u001b[0m\u001b[0;34m=\u001b[0m\u001b[0;36m100\u001b[0m\u001b[0;34m\u001b[0m\u001b[0;34m\u001b[0m\u001b[0m\n\u001b[1;32m      3\u001b[0m \u001b[0;32mdef\u001b[0m \u001b[0mfunc001\u001b[0m\u001b[0;34m(\u001b[0m\u001b[0;34m)\u001b[0m\u001b[0;34m:\u001b[0m\u001b[0;34m\u001b[0m\u001b[0;34m\u001b[0m\u001b[0m\n\u001b[0;32m----> 4\u001b[0;31m   \u001b[0mprint\u001b[0m\u001b[0;34m(\u001b[0m\u001b[0mg_a\u001b[0m\u001b[0;34m)\u001b[0m\u001b[0;34m\u001b[0m\u001b[0;34m\u001b[0m\u001b[0m\n\u001b[0m\u001b[1;32m      5\u001b[0m   \u001b[0mg_a\u001b[0m\u001b[0;34m=\u001b[0m\u001b[0;36m200\u001b[0m\u001b[0;34m\u001b[0m\u001b[0;34m\u001b[0m\u001b[0m\n\u001b[1;32m      6\u001b[0m \u001b[0;34m\u001b[0m\u001b[0m\n",
            "\u001b[0;31mUnboundLocalError\u001b[0m: local variable 'g_a' referenced before assignment"
          ]
        }
      ]
    },
    {
      "cell_type": "code",
      "metadata": {
        "colab": {
          "base_uri": "https://localhost:8080/"
        },
        "id": "NiGNQMSX9VZN",
        "outputId": "f1e09c3b-0ca3-46e8-dc34-b31e65488f97"
      },
      "source": [
        "#グローバル変数\n",
        "g_a=100\n",
        "def func001():\n",
        "  global g_a\n",
        "  print(g_a)\n",
        "  g_a=200\n",
        "\n",
        "func001()"
      ],
      "execution_count": 38,
      "outputs": [
        {
          "output_type": "stream",
          "name": "stdout",
          "text": [
            "100\n"
          ]
        }
      ]
    },
    {
      "cell_type": "code",
      "metadata": {
        "colab": {
          "base_uri": "https://localhost:8080/"
        },
        "id": "MLlOc5f3_GiQ",
        "outputId": "03647b6f-91c1-4090-bb2e-ed60a9030715"
      },
      "source": [
        "#クラス(メソッド)\n",
        "class class001:\n",
        "  def __init__(self): #イニシャライザ\n",
        "    pass #なにもしない\n",
        "  def func001(self):\n",
        "    print(\"aaa\")\n",
        "\n",
        "#呼び出し\n",
        "instance001 = class001()\n",
        "instance001.func001()"
      ],
      "execution_count": 49,
      "outputs": [
        {
          "output_type": "stream",
          "name": "stdout",
          "text": [
            "aaa\n"
          ]
        }
      ]
    },
    {
      "cell_type": "code",
      "metadata": {
        "colab": {
          "base_uri": "https://localhost:8080/"
        },
        "id": "nzDamBY6AB4c",
        "outputId": "59f41f11-28eb-4299-ab23-626a1af4bb51"
      },
      "source": [
        "#クラス(プロパティ)\n",
        "class class001:\n",
        "  def __init__(self, a):\n",
        "    self.m_a = a\n",
        "  def func001(self):\n",
        "    print(self.m_a)\n",
        "\n",
        "#呼び出し\n",
        "instance001 = class001(1000)\n",
        "instance001.func001()"
      ],
      "execution_count": 50,
      "outputs": [
        {
          "output_type": "stream",
          "name": "stdout",
          "text": [
            "1000\n"
          ]
        }
      ]
    },
    {
      "cell_type": "code",
      "metadata": {
        "colab": {
          "base_uri": "https://localhost:8080/"
        },
        "id": "i2uMF-GvCfRn",
        "outputId": "24213587-680d-41dd-91e2-aff4c488852f"
      },
      "source": [
        "#クラス(継承)\n",
        "class class001:\n",
        "  def __init__(self, a):\n",
        "    self.m_a = a\n",
        "\n",
        "class class001ex(class001):\n",
        "  def func002(self):\n",
        "    print(self.m_a)\n",
        "\n",
        "#呼び出し\n",
        "instance001ex = class001ex(1000)\n",
        "instance001ex.func002()"
      ],
      "execution_count": 54,
      "outputs": [
        {
          "output_type": "stream",
          "name": "stdout",
          "text": [
            "1000\n"
          ]
        }
      ]
    },
    {
      "cell_type": "code",
      "metadata": {
        "colab": {
          "base_uri": "https://localhost:8080/"
        },
        "id": "9bhHefayD34I",
        "outputId": "8a1e20ba-a376-4c1f-c8c2-d49813296683"
      },
      "source": [
        "#クラス(インスタンス名呼び出し)\n",
        "class class001:\n",
        "  def __init__(self):\n",
        "    pass\n",
        "  def __call__(self):\n",
        "    print(\"aaa\");\n",
        "\n",
        "#呼び出し\n",
        "instance001 = class001()\n",
        "instance001()"
      ],
      "execution_count": 55,
      "outputs": [
        {
          "output_type": "stream",
          "name": "stdout",
          "text": [
            "aaa\n"
          ]
        }
      ]
    },
    {
      "cell_type": "code",
      "metadata": {
        "id": "2zlO18vZGL2L"
      },
      "source": [
        "#with構文(ファイル保存)\n",
        "with open(\"withtest001.txt\", \"w\") as f:\n",
        "\tf.write(\"aaa\\nbbb\\nccc\") #ファイルに保存\n"
      ],
      "execution_count": 66,
      "outputs": []
    },
    {
      "cell_type": "code",
      "metadata": {
        "colab": {
          "base_uri": "https://localhost:8080/"
        },
        "id": "_UD_XGLnHpfC",
        "outputId": "fda3998b-6fa5-4112-f298-c249cd2805f8"
      },
      "source": [
        "#with構文(ファイル読込)\n",
        "with open(\"withtest001.txt\", \"r\") as f:\n",
        "\tprint(f.read()) #ファイルの読み込み\n"
      ],
      "execution_count": 67,
      "outputs": [
        {
          "output_type": "stream",
          "name": "stdout",
          "text": [
            "aaa\n",
            "bbb\n",
            "ccc\n"
          ]
        }
      ]
    },
    {
      "cell_type": "code",
      "metadata": {
        "colab": {
          "resources": {
            "http://localhost:8080/nbextensions/google.colab/files.js": {
              "data": "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",
              "ok": true,
              "headers": [
                [
                  "content-type",
                  "application/javascript"
                ]
              ],
              "status": 200,
              "status_text": ""
            }
          },
          "base_uri": "https://localhost:8080/",
          "height": 130
        },
        "id": "WMerHs9DRQ2C",
        "outputId": "c6b0df83-c742-4ecf-94a7-c2b0b299eabc"
      },
      "source": [
        "#ファイルのアップロード\n",
        "from google.colab import files\n",
        "uploaded = files.upload()\n",
        "for key in uploaded.keys():\n",
        "\tprint(uploaded[key].decode(\"utf-8\"))"
      ],
      "execution_count": 68,
      "outputs": [
        {
          "output_type": "display_data",
          "data": {
            "text/html": [
              "\n",
              "     <input type=\"file\" id=\"files-8e8f1e32-2e72-4a8c-bd55-c98181f33c5d\" name=\"files[]\" multiple disabled\n",
              "        style=\"border:none\" />\n",
              "     <output id=\"result-8e8f1e32-2e72-4a8c-bd55-c98181f33c5d\">\n",
              "      Upload widget is only available when the cell has been executed in the\n",
              "      current browser session. Please rerun this cell to enable.\n",
              "      </output>\n",
              "      <script src=\"/nbextensions/google.colab/files.js\"></script> "
            ],
            "text/plain": [
              "<IPython.core.display.HTML object>"
            ]
          },
          "metadata": {}
        },
        {
          "output_type": "stream",
          "name": "stdout",
          "text": [
            "Saving aaa.txt to aaa.txt\n",
            "aaaa\n",
            "bbbb\n",
            "\n"
          ]
        }
      ]
    },
    {
      "cell_type": "code",
      "metadata": {
        "colab": {
          "base_uri": "https://localhost:8080/",
          "height": 17
        },
        "id": "a9WeuDhbRydZ",
        "outputId": "01887060-8ecd-4b26-b7ab-e0d3dbe6ea34"
      },
      "source": [
        "#ファイルのダウンロード ※ダウンロードフォルダに\n",
        "files.download(\"aaa.txt\")"
      ],
      "execution_count": 69,
      "outputs": [
        {
          "output_type": "display_data",
          "data": {
            "application/javascript": [
              "\n",
              "    async function download(id, filename, size) {\n",
              "      if (!google.colab.kernel.accessAllowed) {\n",
              "        return;\n",
              "      }\n",
              "      const div = document.createElement('div');\n",
              "      const label = document.createElement('label');\n",
              "      label.textContent = `Downloading \"${filename}\": `;\n",
              "      div.appendChild(label);\n",
              "      const progress = document.createElement('progress');\n",
              "      progress.max = size;\n",
              "      div.appendChild(progress);\n",
              "      document.body.appendChild(div);\n",
              "\n",
              "      const buffers = [];\n",
              "      let downloaded = 0;\n",
              "\n",
              "      const channel = await google.colab.kernel.comms.open(id);\n",
              "      // Send a message to notify the kernel that we're ready.\n",
              "      channel.send({})\n",
              "\n",
              "      for await (const message of channel.messages) {\n",
              "        // Send a message to notify the kernel that we're ready.\n",
              "        channel.send({})\n",
              "        if (message.buffers) {\n",
              "          for (const buffer of message.buffers) {\n",
              "            buffers.push(buffer);\n",
              "            downloaded += buffer.byteLength;\n",
              "            progress.value = downloaded;\n",
              "          }\n",
              "        }\n",
              "      }\n",
              "      const blob = new Blob(buffers, {type: 'application/binary'});\n",
              "      const a = document.createElement('a');\n",
              "      a.href = window.URL.createObjectURL(blob);\n",
              "      a.download = filename;\n",
              "      div.appendChild(a);\n",
              "      a.click();\n",
              "      div.remove();\n",
              "    }\n",
              "  "
            ],
            "text/plain": [
              "<IPython.core.display.Javascript object>"
            ]
          },
          "metadata": {}
        },
        {
          "output_type": "display_data",
          "data": {
            "application/javascript": [
              "download(\"download_210a0a84-3fcf-498e-813c-24d60fce9719\", \"aaa.txt\", 12)"
            ],
            "text/plain": [
              "<IPython.core.display.Javascript object>"
            ]
          },
          "metadata": {}
        }
      ]
    },
    {
      "cell_type": "code",
      "metadata": {
        "colab": {
          "base_uri": "https://localhost:8080/"
        },
        "id": "QlyER0lhT5Z3",
        "outputId": "d779cfb0-fbaa-4ba2-f9ea-615389dc47f5"
      },
      "source": [
        "#NumPyのarray配列\n",
        "import numpy as np\n",
        "\n",
        "# PythonのリストからNumPyの配列を作る\n",
        "na = np.array([0,1,2,3,4,5])\n",
        "print(na)\n"
      ],
      "execution_count": 70,
      "outputs": [
        {
          "output_type": "stream",
          "name": "stdout",
          "text": [
            "[0 1 2 3 4 5]\n"
          ]
        }
      ]
    },
    {
      "cell_type": "code",
      "metadata": {
        "colab": {
          "base_uri": "https://localhost:8080/"
        },
        "id": "OfOKyGp7ULky",
        "outputId": "d449025d-796c-47e7-eaec-6176494ad6b2"
      },
      "source": [
        "print([1,2,3])"
      ],
      "execution_count": 71,
      "outputs": [
        {
          "output_type": "stream",
          "name": "stdout",
          "text": [
            "[1, 2, 3]\n"
          ]
        }
      ]
    },
    {
      "cell_type": "code",
      "metadata": {
        "colab": {
          "base_uri": "https://localhost:8080/"
        },
        "id": "n5STOWD9UVcf",
        "outputId": "74a863a0-d048-4cc9-89b1-0e6425f6af28"
      },
      "source": [
        "#2次元配列\n",
        "import numpy as np\n",
        "\n",
        "na = np.array([[0,0],[1,1]])\n",
        "print(na)\n"
      ],
      "execution_count": 75,
      "outputs": [
        {
          "output_type": "stream",
          "name": "stdout",
          "text": [
            "[[0 0]\n",
            " [1 1]]\n"
          ]
        }
      ]
    },
    {
      "cell_type": "code",
      "metadata": {
        "colab": {
          "base_uri": "https://localhost:8080/"
        },
        "id": "J89o2ogbVfm2",
        "outputId": "91d5c477-c08e-44ee-a910-db950225359f"
      },
      "source": [
        "#3次元配列\n",
        "import numpy as np\n",
        "\n",
        "na = np.array([[[0,0,0],[0,0,0]],[[1,1,1],[1,1,1]],[[2,2,2],[2,2,2]]])\n",
        "print(na)\n"
      ],
      "execution_count": 80,
      "outputs": [
        {
          "output_type": "stream",
          "name": "stdout",
          "text": [
            "[[[0 0 0]\n",
            "  [0 0 0]]\n",
            "\n",
            " [[1 1 1]\n",
            "  [1 1 1]]\n",
            "\n",
            " [[2 2 2]\n",
            "  [2 2 2]]]\n"
          ]
        }
      ]
    },
    {
      "cell_type": "code",
      "metadata": {
        "colab": {
          "base_uri": "https://localhost:8080/"
        },
        "id": "tBqYIUFSWcNl",
        "outputId": "372d891e-1e98-495f-b623-870b8654010e"
      },
      "source": [
        "#NumPy配列の計算\n",
        "import numpy as np\n",
        "\n",
        "na = np.array([1,10])\n",
        "print(na+2) #各要素に2を足す\n",
        "print(na*2) #各要素に2をかける\n"
      ],
      "execution_count": 86,
      "outputs": [
        {
          "output_type": "stream",
          "name": "stdout",
          "text": [
            "[ 3 12]\n",
            "[ 2 20]\n"
          ]
        }
      ]
    },
    {
      "cell_type": "code",
      "metadata": {
        "colab": {
          "base_uri": "https://localhost:8080/"
        },
        "id": "0y5M5DvRYAEa",
        "outputId": "1dde0940-1488-4929-80d8-d74d0f3c1eae"
      },
      "source": [
        "#NumPy配列の計算(行列同士)\n",
        "na1 = np. array([1,10])\n",
        "na2 = np. array([1,10])\n",
        "print(na1+na2) #和\n",
        "print(na1*na2) #積\n"
      ],
      "execution_count": 85,
      "outputs": [
        {
          "output_type": "stream",
          "name": "stdout",
          "text": [
            "[ 2 20]\n",
            "[  1 100]\n"
          ]
        }
      ]
    },
    {
      "cell_type": "code",
      "metadata": {
        "colab": {
          "base_uri": "https://localhost:8080/"
        },
        "id": "_2uTTb7xZAPn",
        "outputId": "2145ad6d-8f4f-4af3-dae8-588a39308e62"
      },
      "source": [
        "#NumPy配列の計算(異なる次元の行列同士)\n",
        "na1 = np. array([[10,100],[1000,10000]])\n",
        "na2 = np. array([2,3])\n",
        "print(na1+na2)\n",
        "\n"
      ],
      "execution_count": 90,
      "outputs": [
        {
          "output_type": "stream",
          "name": "stdout",
          "text": [
            "[[   12   103]\n",
            " [ 1002 10003]]\n"
          ]
        }
      ]
    },
    {
      "cell_type": "code",
      "metadata": {
        "colab": {
          "base_uri": "https://localhost:8080/"
        },
        "id": "SzmkYCtSaKmO",
        "outputId": "0af47ba1-491d-4808-fbb4-1a60a587b2d4"
      },
      "source": [
        "#配列の形状\n",
        "import numpy as np\n",
        "a = np.array([[0,0,0],[0,0,0]])\n",
        "print(a.shape)\n"
      ],
      "execution_count": 91,
      "outputs": [
        {
          "output_type": "stream",
          "name": "stdout",
          "text": [
            "(2, 3)\n"
          ]
        }
      ]
    },
    {
      "cell_type": "code",
      "metadata": {
        "colab": {
          "base_uri": "https://localhost:8080/"
        },
        "id": "3SiqFXYxa8tk",
        "outputId": "61a30301-e5d2-45bd-9dff-b00ee598aff6"
      },
      "source": [
        "#配列の形状の変換\n",
        "import numpy as np\n",
        "\n",
        "x = np.array([0,0,1,1])\n",
        "print(x)\n",
        "\n",
        "y = x.reshape(2,2)\n",
        "print(y)\n"
      ],
      "execution_count": 95,
      "outputs": [
        {
          "output_type": "stream",
          "name": "stdout",
          "text": [
            "[0 0 1 1]\n",
            "[[0 0]\n",
            " [1 1]]\n"
          ]
        }
      ]
    },
    {
      "cell_type": "code",
      "metadata": {
        "colab": {
          "base_uri": "https://localhost:8080/"
        },
        "id": "h5v-pvayb0Cb",
        "outputId": "710c3a22-5ad0-42ed-fe21-1e40a19b649a"
      },
      "source": [
        "#配列の形状の変換\n",
        "import numpy as np\n",
        "\n",
        "x = np.array([[0,0],[1,1]])\n",
        "y = x.reshape(-1)\n",
        "print(x)\n",
        "print(y)\n"
      ],
      "execution_count": 97,
      "outputs": [
        {
          "output_type": "stream",
          "name": "stdout",
          "text": [
            "[[0 0]\n",
            " [1 1]]\n",
            "[0 0 1 1]\n"
          ]
        }
      ]
    },
    {
      "cell_type": "code",
      "metadata": {
        "colab": {
          "base_uri": "https://localhost:8080/"
        },
        "id": "XYHxDukTcrs5",
        "outputId": "e1160d4e-1c67-406a-a052-d85e437253f5"
      },
      "source": [
        "#配列要素へのアクセス\n",
        "import numpy as np\n",
        "a = np.array([0,10,20,30,40,50,60])\n",
        "print(a[3])\n"
      ],
      "execution_count": 99,
      "outputs": [
        {
          "output_type": "stream",
          "name": "stdout",
          "text": [
            "30\n"
          ]
        }
      ]
    },
    {
      "cell_type": "code",
      "metadata": {
        "colab": {
          "base_uri": "https://localhost:8080/"
        },
        "id": "j403Jo3fdXAP",
        "outputId": "ae99dd74-b56a-4629-f1b0-95e779dcb854"
      },
      "source": [
        "#配列要素へのアクセス(二次元)\n",
        "import numpy as np\n",
        "a = np.array([[0,1,2],[10,11,12],[100,101,102]])\n",
        "print(a[2,2])"
      ],
      "execution_count": 102,
      "outputs": [
        {
          "output_type": "stream",
          "name": "stdout",
          "text": [
            "102\n"
          ]
        }
      ]
    },
    {
      "cell_type": "code",
      "metadata": {
        "colab": {
          "base_uri": "https://localhost:8080/"
        },
        "id": "LHSXtiJNd8bm",
        "outputId": "80fbb476-c380-4f23-890c-977921beafde"
      },
      "source": [
        "#配列戻り値\n",
        "import numpy as np\n",
        "\n",
        "def func001(x):\n",
        "  y=x*2\n",
        "  return y\n",
        "\n",
        "print(func001(np.array([10,10,10])))"
      ],
      "execution_count": 105,
      "outputs": [
        {
          "output_type": "stream",
          "name": "stdout",
          "text": [
            "[20 20 20]\n"
          ]
        }
      ]
    },
    {
      "cell_type": "code",
      "metadata": {
        "colab": {
          "base_uri": "https://localhost:8080/"
        },
        "id": "eDM4_gYQgyJc",
        "outputId": "43250e04-6ea9-4c6c-854e-2f112effc9ba"
      },
      "source": [
        "#NumPy組込み関数\n",
        "import numpy as np\n",
        "\n",
        "a=np.array([1,2,3])\n",
        "\n",
        "print(a.sum())\n",
        "print(np.average(a))\n",
        "print(a.min())\n",
        "print(a.max())"
      ],
      "execution_count": 108,
      "outputs": [
        {
          "output_type": "stream",
          "name": "stdout",
          "text": [
            "6\n",
            "2.0\n",
            "1\n",
            "3\n"
          ]
        }
      ]
    },
    {
      "cell_type": "code",
      "metadata": {
        "colab": {
          "base_uri": "https://localhost:8080/"
        },
        "id": "p3OmZzp_fLqZ",
        "outputId": "23058f52-7c2d-4807-c898-722ec8680ed2"
      },
      "source": [
        "#axisを指定して平均\n",
        "import numpy as np\n",
        "a=np.array([[1,1,1],[2,2,2],[3,3,3]])\n",
        "print(np.average(a,axis=0))\n",
        "print(np.average(a,axis=1))\n"
      ],
      "execution_count": 109,
      "outputs": [
        {
          "output_type": "stream",
          "name": "stdout",
          "text": [
            "[2. 2. 2.]\n",
            "[1. 2. 3.]\n"
          ]
        }
      ]
    },
    {
      "cell_type": "code",
      "metadata": {
        "colab": {
          "base_uri": "https://localhost:8080/"
        },
        "id": "eIg6goJ0u1G8",
        "outputId": "6a120ef7-9668-4e74-a90f-deb7e228ea51"
      },
      "source": [
        "#50分割\n",
        "import numpy as np\n",
        "x = np.linspace(100,110)\n",
        "print(x)\n",
        "print(len(x))\n"
      ],
      "execution_count": 111,
      "outputs": [
        {
          "output_type": "stream",
          "name": "stdout",
          "text": [
            "[100.         100.20408163 100.40816327 100.6122449  100.81632653\n",
            " 101.02040816 101.2244898  101.42857143 101.63265306 101.83673469\n",
            " 102.04081633 102.24489796 102.44897959 102.65306122 102.85714286\n",
            " 103.06122449 103.26530612 103.46938776 103.67346939 103.87755102\n",
            " 104.08163265 104.28571429 104.48979592 104.69387755 104.89795918\n",
            " 105.10204082 105.30612245 105.51020408 105.71428571 105.91836735\n",
            " 106.12244898 106.32653061 106.53061224 106.73469388 106.93877551\n",
            " 107.14285714 107.34693878 107.55102041 107.75510204 107.95918367\n",
            " 108.16326531 108.36734694 108.57142857 108.7755102  108.97959184\n",
            " 109.18367347 109.3877551  109.59183673 109.79591837 110.        ]\n",
            "50\n"
          ]
        }
      ]
    },
    {
      "cell_type": "code",
      "metadata": {
        "colab": {
          "base_uri": "https://localhost:8080/",
          "height": 265
        },
        "id": "87XNRs-4wSCx",
        "outputId": "e20eed62-ee4e-42cc-97f4-63791ffb3b02"
      },
      "source": [
        "#傾き２の直線を描画\n",
        "import numpy as np\n",
        "import matplotlib.pyplot as plt\n",
        "\n",
        "x=np.linspace(0,1)\n",
        "y=2*x\n",
        "plt.plot(x,y)\n",
        "plt. show()\n"
      ],
      "execution_count": 113,
      "outputs": [
        {
          "output_type": "display_data",
          "data": {
            "image/png": "[encoded data removed]",
            "text/plain": [
              "<Figure size 432x288 with 1 Axes>"
            ]
          },
          "metadata": {
            "needs_background": "light"
          }
        }
      ]
    },
    {
      "cell_type": "code",
      "metadata": {
        "colab": {
          "base_uri": "https://localhost:8080/",
          "height": 295
        },
        "id": "wNW1vW1lxFAr",
        "outputId": "8be223cc-a7c1-4e1f-8a6c-63cb04790004"
      },
      "source": [
        "#グラフの装飾\n",
        "import numpy as np\n",
        "import matplotlib.pyplot as plt\n",
        "x=np.linspace(-5,5)\n",
        "y_1 = 2*x\n",
        "y_2 = 3*x\n",
        "plt.xlabel(\"x value\") #x軸のラベル\n",
        "plt.ylabel(\"y value\") #y軸のラベル\n",
        "plt.title(\"My Graph\") #グラフのタイトル\n",
        "plt.plot(x,y_1,label=\"y1\") #線のスタイル(y1)\n",
        "plt.plot(x,y_2,label=\"y2\",linestyle=\"dashed\") #線のスタイル(y2)\n",
        "plt.legend() #凡例\n",
        "plt.show()\n"
      ],
      "execution_count": 117,
      "outputs": [
        {
          "output_type": "display_data",
          "data": {
            "image/png": "[encoded data removed]",
            "text/plain": [
              "<Figure size 432x288 with 1 Axes>"
            ]
          },
          "metadata": {
            "needs_background": "light"
          }
        }
      ]
    },
    {
      "cell_type": "code",
      "metadata": {
        "colab": {
          "base_uri": "https://localhost:8080/",
          "height": 265
        },
        "id": "SfEZm8Yux9xq",
        "outputId": "1907737b-ee9f-4d64-ac2e-5fa209cbfafd"
      },
      "source": [
        "#散布図\n",
        "import numpy as np \n",
        "import matplotlib.pyplot as plt\n",
        "x = np.array([1, 2, 3, 4, 5]) #x座標\n",
        "y = np.array([1, 4, 8, 16, 25]) #y座標\n",
        "plt.scatter(x,y) #散布図のプロット\n",
        "plt.show()\n"
      ],
      "execution_count": 120,
      "outputs": [
        {
          "output_type": "display_data",
          "data": {
            "image/png": "[encoded data removed]",
            "text/plain": [
              "<Figure size 432x288 with 1 Axes>"
            ]
          },
          "metadata": {
            "needs_background": "light"
          }
        }
      ]
    },
    {
      "cell_type": "code",
      "metadata": {
        "colab": {
          "base_uri": "https://localhost:8080/",
          "height": 269
        },
        "id": "5fIDRqulzk35",
        "outputId": "f4f37959-007b-470f-84d9-c201be6e2db3"
      },
      "source": [
        "#カラーバー\n",
        "import numpy as np\n",
        "import matplotlib.pyplot as plt\n",
        "\n",
        "img = np.array([[0, 1, 2], [3, 4, 5], [6, 7, 8]])\n",
        "plt.imshow(img,\"gray\") #グレースケールで表示\n",
        "plt.colorbar() #カラーバーの表示\n",
        "plt.show()\n"
      ],
      "execution_count": 123,
      "outputs": [
        {
          "output_type": "display_data",
          "data": {
            "image/png": "[encoded data removed]",
            "text/plain": [
              "<Figure size 432x288 with 2 Axes>"
            ]
          },
          "metadata": {
            "needs_background": "light"
          }
        }
      ]
    },
    {
      "cell_type": "code",
      "metadata": {
        "colab": {
          "base_uri": "https://localhost:8080/"
        },
        "id": "IlZcaVbz08kn",
        "outputId": "29a995a9-c106-4dde-c969-37a5f160a275"
      },
      "source": [
        "#ラベル付き配列(一次元)\n",
        "import pandas as pd\n",
        "import numpy as np\n",
        "\n",
        "a = pd.Series([10,20,30],index=[\"Jap\",\"Eng\",\"USA\"])\n",
        "print(\"データタイプ：\",type(a))\n",
        "print(a)\n"
      ],
      "execution_count": 128,
      "outputs": [
        {
          "output_type": "stream",
          "name": "stdout",
          "text": [
            "データタイプ： <class 'pandas.core.series.Series'>\n",
            "Jap    10\n",
            "Eng    20\n",
            "USA    30\n",
            "dtype: int64\n"
          ]
        }
      ]
    },
    {
      "cell_type": "code",
      "metadata": {
        "colab": {
          "base_uri": "https://localhost:8080/"
        },
        "id": "1MqU0PwH18Pi",
        "outputId": "3fe572c6-b279-4599-d261-1b1a3e5003c4"
      },
      "source": [
        "#ラベル付き配列(一次元) ※np配列でも可\n",
        "import pandas as pd\n",
        "import numpy as np\n",
        "\n",
        "a = pd.Series(np.array([60,80,70]), index=np.array([\"Jap\",\"Eng\",\"USA\"]))\n",
        "print(\"データタイプ：\",type(a))\n",
        "print(a)\n",
        "\n"
      ],
      "execution_count": 130,
      "outputs": [
        {
          "output_type": "stream",
          "name": "stdout",
          "text": [
            "データタイプ： <class 'pandas.core.series.Series'>\n",
            "Jap    60\n",
            "Eng    80\n",
            "USA    70\n",
            "dtype: int64\n"
          ]
        }
      ]
    },
    {
      "cell_type": "code",
      "metadata": {
        "colab": {
          "base_uri": "https://localhost:8080/"
        },
        "id": "kX6j5DUY3qV6",
        "outputId": "2a61fc2e-4c22-49ac-d5c6-213548973258"
      },
      "source": [
        "#ラベル付き配列(一次元) ※辞書でも可\n",
        "import pandas as pd\n",
        "import numpy as np\n",
        "\n",
        "a=pd.Series({\"Japanese\":60,\"English\":80,\"Math\":70})\n",
        "print(\"データタイプ：\",type(a))\n",
        "print(a)\n"
      ],
      "execution_count": 132,
      "outputs": [
        {
          "output_type": "stream",
          "name": "stdout",
          "text": [
            "データタイプ： <class 'pandas.core.series.Series'>\n",
            "Japanese    60\n",
            "English     80\n",
            "Math        70\n",
            "dtype: int64\n"
          ]
        }
      ]
    },
    {
      "cell_type": "code",
      "metadata": {
        "colab": {
          "base_uri": "https://localhost:8080/"
        },
        "id": "aQ05JAwX4LX3",
        "outputId": "f1d6291d-9c83-4ada-db0f-d0b253437d08"
      },
      "source": [
        "#ラベル付き配列(一次元)の要素を取得\n",
        "import pandas as pd\n",
        "import numpy as np\n",
        "\n",
        "a = pd.Series([60,80,70], index=[\"Jap\",\"Eng\",\"Math\"])\n",
        "print(a[2]) #インデックスを指定\n",
        "print(a[\"Math\"]) #ラベルを指定\n"
      ],
      "execution_count": 135,
      "outputs": [
        {
          "output_type": "stream",
          "name": "stdout",
          "text": [
            "70\n",
            "70\n"
          ]
        }
      ]
    },
    {
      "cell_type": "code",
      "metadata": {
        "colab": {
          "base_uri": "https://localhost:8080/"
        },
        "id": "vCE6Z3Yz47G-",
        "outputId": "74b23ec4-208c-4552-e551-f6f3a7ca7b99"
      },
      "source": [
        "#ラベル付き配列(一次元)の要素を追加\n",
        "import pandas as pd\n",
        "import numpy as np\n",
        "\n",
        "a=pd.Series([60,80,70], index=[\"Japanese\",\"English\",\"Math\"])\n",
        "b=pd.Series([20], index=[\"Art\"])\n",
        "a=a.append(b)\n",
        "print(a)\n"
      ],
      "execution_count": 137,
      "outputs": [
        {
          "output_type": "stream",
          "name": "stdout",
          "text": [
            "Japanese    60\n",
            "English     80\n",
            "Math        70\n",
            "Art         20\n",
            "dtype: int64\n"
          ]
        }
      ]
    },
    {
      "cell_type": "code",
      "metadata": {
        "colab": {
          "base_uri": "https://localhost:8080/",
          "height": 142
        },
        "id": "vXL7lCEr53sZ",
        "outputId": "6a0a1da8-3a66-4bed-cceb-89cdd9bbc3d8"
      },
      "source": [
        "#ラベル付き配列(二次元)\n",
        "import pandas as pd\n",
        "\n",
        "a = pd.DataFrame([[10,True],\n",
        "                  [20,True],\n",
        "                  [30,False]])\n",
        "\n",
        "a #ノートブックではprintを使わなくても表示が可能\n"
      ],
      "execution_count": 142,
      "outputs": [
        {
          "output_type": "execute_result",
          "data": {
            "text/html": [
              "<div>\n",
              "<style scoped>\n",
              "    .dataframe tbody tr th:only-of-type {\n",
              "        vertical-align: middle;\n",
              "    }\n",
              "\n",
              "    .dataframe tbody tr th {\n",
              "        vertical-align: top;\n",
              "    }\n",
              "\n",
              "    .dataframe thead th {\n",
              "        text-align: right;\n",
              "    }\n",
              "</style>\n",
              "<table border=\"1\" class=\"dataframe\">\n",
              "  <thead>\n",
              "    <tr style=\"text-align: right;\">\n",
              "      <th></th>\n",
              "      <th>0</th>\n",
              "      <th>1</th>\n",
              "    </tr>\n",
              "  </thead>\n",
              "  <tbody>\n",
              "    <tr>\n",
              "      <th>0</th>\n",
              "      <td>10</td>\n",
              "      <td>True</td>\n",
              "    </tr>\n",
              "    <tr>\n",
              "      <th>1</th>\n",
              "      <td>20</td>\n",
              "      <td>True</td>\n",
              "    </tr>\n",
              "    <tr>\n",
              "      <th>2</th>\n",
              "      <td>30</td>\n",
              "      <td>False</td>\n",
              "    </tr>\n",
              "  </tbody>\n",
              "</table>\n",
              "</div>"
            ],
            "text/plain": [
              "    0      1\n",
              "0  10   True\n",
              "1  20   True\n",
              "2  30  False"
            ]
          },
          "metadata": {},
          "execution_count": 142
        }
      ]
    },
    {
      "cell_type": "code",
      "metadata": {
        "colab": {
          "base_uri": "https://localhost:8080/",
          "height": 142
        },
        "id": "RsPJmC1r6uAa",
        "outputId": "4c2522e4-c28b-476d-8083-6b7cc55a9c37"
      },
      "source": [
        "#ラベル付き配列(二次元)ラベル文字列設定\n",
        "import pandas as pd\n",
        "\n",
        "a = pd.DataFrame([[10,True],\n",
        "                  [20,True],\n",
        "                  [30,False]])\n",
        "a.index = [\"row0\",\"row1\",\"row2\"]\n",
        "a.columns = [\"col0\",\"col1\"]\n",
        "\n",
        "a #ノートブックではprintを使わなくても表示が可能\n"
      ],
      "execution_count": 169,
      "outputs": [
        {
          "output_type": "execute_result",
          "data": {
            "text/html": [
              "<div>\n",
              "<style scoped>\n",
              "    .dataframe tbody tr th:only-of-type {\n",
              "        vertical-align: middle;\n",
              "    }\n",
              "\n",
              "    .dataframe tbody tr th {\n",
              "        vertical-align: top;\n",
              "    }\n",
              "\n",
              "    .dataframe thead th {\n",
              "        text-align: right;\n",
              "    }\n",
              "</style>\n",
              "<table border=\"1\" class=\"dataframe\">\n",
              "  <thead>\n",
              "    <tr style=\"text-align: right;\">\n",
              "      <th></th>\n",
              "      <th>col0</th>\n",
              "      <th>col1</th>\n",
              "    </tr>\n",
              "  </thead>\n",
              "  <tbody>\n",
              "    <tr>\n",
              "      <th>row0</th>\n",
              "      <td>10</td>\n",
              "      <td>True</td>\n",
              "    </tr>\n",
              "    <tr>\n",
              "      <th>row1</th>\n",
              "      <td>20</td>\n",
              "      <td>True</td>\n",
              "    </tr>\n",
              "    <tr>\n",
              "      <th>row2</th>\n",
              "      <td>30</td>\n",
              "      <td>False</td>\n",
              "    </tr>\n",
              "  </tbody>\n",
              "</table>\n",
              "</div>"
            ],
            "text/plain": [
              "      col0   col1\n",
              "row0    10   True\n",
              "row1    20   True\n",
              "row2    30  False"
            ]
          },
          "metadata": {},
          "execution_count": 169
        }
      ]
    },
    {
      "cell_type": "code",
      "metadata": {
        "colab": {
          "base_uri": "https://localhost:8080/"
        },
        "id": "wPmnaFWM9Y1M",
        "outputId": "0f910d0a-24f0-4bc0-9554-e5216d2381a5"
      },
      "source": [
        "#ラベル付き配列(二次元)行数、列数取得\n",
        "import pandas as pd\n",
        "a = pd.DataFrame([[10,True],\n",
        "                  [20,True],\n",
        "                  [30,False]])\n",
        "a.shape\n"
      ],
      "execution_count": 148,
      "outputs": [
        {
          "output_type": "execute_result",
          "data": {
            "text/plain": [
              "(3, 2)"
            ]
          },
          "metadata": {},
          "execution_count": 148
        }
      ]
    },
    {
      "cell_type": "code",
      "metadata": {
        "colab": {
          "base_uri": "https://localhost:8080/",
          "height": 203
        },
        "id": "HO-bJ5nS8IFJ",
        "outputId": "86fb8832-1a0c-4a9d-80ef-eaa2b44c8762"
      },
      "source": [
        "#ラベル付き配列(二次元)最初の5行\n",
        "import pandas as pd\n",
        "a = pd.DataFrame([[10,True],\n",
        "                  [20,True],\n",
        "                  [30,True],\n",
        "                  [40,True],\n",
        "                  [50,True],\n",
        "                  [60,True],\n",
        "                  [70,True],\n",
        "                  [80,True],\n",
        "                  [90,True],\n",
        "                  [100,False]])\n",
        "a.head()"
      ],
      "execution_count": 151,
      "outputs": [
        {
          "output_type": "execute_result",
          "data": {
            "text/html": [
              "<div>\n",
              "<style scoped>\n",
              "    .dataframe tbody tr th:only-of-type {\n",
              "        vertical-align: middle;\n",
              "    }\n",
              "\n",
              "    .dataframe tbody tr th {\n",
              "        vertical-align: top;\n",
              "    }\n",
              "\n",
              "    .dataframe thead th {\n",
              "        text-align: right;\n",
              "    }\n",
              "</style>\n",
              "<table border=\"1\" class=\"dataframe\">\n",
              "  <thead>\n",
              "    <tr style=\"text-align: right;\">\n",
              "      <th></th>\n",
              "      <th>0</th>\n",
              "      <th>1</th>\n",
              "    </tr>\n",
              "  </thead>\n",
              "  <tbody>\n",
              "    <tr>\n",
              "      <th>0</th>\n",
              "      <td>10</td>\n",
              "      <td>True</td>\n",
              "    </tr>\n",
              "    <tr>\n",
              "      <th>1</th>\n",
              "      <td>20</td>\n",
              "      <td>True</td>\n",
              "    </tr>\n",
              "    <tr>\n",
              "      <th>2</th>\n",
              "      <td>30</td>\n",
              "      <td>True</td>\n",
              "    </tr>\n",
              "    <tr>\n",
              "      <th>3</th>\n",
              "      <td>40</td>\n",
              "      <td>True</td>\n",
              "    </tr>\n",
              "    <tr>\n",
              "      <th>4</th>\n",
              "      <td>50</td>\n",
              "      <td>True</td>\n",
              "    </tr>\n",
              "  </tbody>\n",
              "</table>\n",
              "</div>"
            ],
            "text/plain": [
              "    0     1\n",
              "0  10  True\n",
              "1  20  True\n",
              "2  30  True\n",
              "3  40  True\n",
              "4  50  True"
            ]
          },
          "metadata": {},
          "execution_count": 151
        }
      ]
    },
    {
      "cell_type": "code",
      "metadata": {
        "colab": {
          "base_uri": "https://localhost:8080/",
          "height": 203
        },
        "id": "pONYU-wT-bj_",
        "outputId": "051f03d5-ca5e-4af6-c822-c646c7ec941f"
      },
      "source": [
        "#ラベル付き配列(二次元)最後の5行\n",
        "import pandas as pd\n",
        "a = pd.DataFrame([[10,True],\n",
        "                  [20,True],\n",
        "                  [30,True],\n",
        "                  [40,True],\n",
        "                  [50,True],\n",
        "                  [60,True],\n",
        "                  [70,True],\n",
        "                  [80,True],\n",
        "                  [90,True],\n",
        "                  [100,False]])\n",
        "a.tail()"
      ],
      "execution_count": 152,
      "outputs": [
        {
          "output_type": "execute_result",
          "data": {
            "text/html": [
              "<div>\n",
              "<style scoped>\n",
              "    .dataframe tbody tr th:only-of-type {\n",
              "        vertical-align: middle;\n",
              "    }\n",
              "\n",
              "    .dataframe tbody tr th {\n",
              "        vertical-align: top;\n",
              "    }\n",
              "\n",
              "    .dataframe thead th {\n",
              "        text-align: right;\n",
              "    }\n",
              "</style>\n",
              "<table border=\"1\" class=\"dataframe\">\n",
              "  <thead>\n",
              "    <tr style=\"text-align: right;\">\n",
              "      <th></th>\n",
              "      <th>0</th>\n",
              "      <th>1</th>\n",
              "    </tr>\n",
              "  </thead>\n",
              "  <tbody>\n",
              "    <tr>\n",
              "      <th>5</th>\n",
              "      <td>60</td>\n",
              "      <td>True</td>\n",
              "    </tr>\n",
              "    <tr>\n",
              "      <th>6</th>\n",
              "      <td>70</td>\n",
              "      <td>True</td>\n",
              "    </tr>\n",
              "    <tr>\n",
              "      <th>7</th>\n",
              "      <td>80</td>\n",
              "      <td>True</td>\n",
              "    </tr>\n",
              "    <tr>\n",
              "      <th>8</th>\n",
              "      <td>90</td>\n",
              "      <td>True</td>\n",
              "    </tr>\n",
              "    <tr>\n",
              "      <th>9</th>\n",
              "      <td>100</td>\n",
              "      <td>False</td>\n",
              "    </tr>\n",
              "  </tbody>\n",
              "</table>\n",
              "</div>"
            ],
            "text/plain": [
              "     0      1\n",
              "5   60   True\n",
              "6   70   True\n",
              "7   80   True\n",
              "8   90   True\n",
              "9  100  False"
            ]
          },
          "metadata": {},
          "execution_count": 152
        }
      ]
    },
    {
      "cell_type": "code",
      "metadata": {
        "colab": {
          "base_uri": "https://localhost:8080/",
          "height": 295
        },
        "id": "Rc14vn6M-7lC",
        "outputId": "e7054cfc-1cb0-430d-c833-172e73634d58"
      },
      "source": [
        "#ラベル付き配列(二次元)基本的統計量\n",
        "import pandas as pd\n",
        "a = pd.DataFrame([[10,True],\n",
        "                  [20,True],\n",
        "                  [30,True],\n",
        "                  [40,True],\n",
        "                  [50,True],\n",
        "                  [60,True],\n",
        "                  [70,True],\n",
        "                  [80,True],\n",
        "                  [90,True],\n",
        "                  [100,False]])\n",
        "a.describe()"
      ],
      "execution_count": 153,
      "outputs": [
        {
          "output_type": "execute_result",
          "data": {
            "text/html": [
              "<div>\n",
              "<style scoped>\n",
              "    .dataframe tbody tr th:only-of-type {\n",
              "        vertical-align: middle;\n",
              "    }\n",
              "\n",
              "    .dataframe tbody tr th {\n",
              "        vertical-align: top;\n",
              "    }\n",
              "\n",
              "    .dataframe thead th {\n",
              "        text-align: right;\n",
              "    }\n",
              "</style>\n",
              "<table border=\"1\" class=\"dataframe\">\n",
              "  <thead>\n",
              "    <tr style=\"text-align: right;\">\n",
              "      <th></th>\n",
              "      <th>0</th>\n",
              "    </tr>\n",
              "  </thead>\n",
              "  <tbody>\n",
              "    <tr>\n",
              "      <th>count</th>\n",
              "      <td>10.000000</td>\n",
              "    </tr>\n",
              "    <tr>\n",
              "      <th>mean</th>\n",
              "      <td>55.000000</td>\n",
              "    </tr>\n",
              "    <tr>\n",
              "      <th>std</th>\n",
              "      <td>30.276504</td>\n",
              "    </tr>\n",
              "    <tr>\n",
              "      <th>min</th>\n",
              "      <td>10.000000</td>\n",
              "    </tr>\n",
              "    <tr>\n",
              "      <th>25%</th>\n",
              "      <td>32.500000</td>\n",
              "    </tr>\n",
              "    <tr>\n",
              "      <th>50%</th>\n",
              "      <td>55.000000</td>\n",
              "    </tr>\n",
              "    <tr>\n",
              "      <th>75%</th>\n",
              "      <td>77.500000</td>\n",
              "    </tr>\n",
              "    <tr>\n",
              "      <th>max</th>\n",
              "      <td>100.000000</td>\n",
              "    </tr>\n",
              "  </tbody>\n",
              "</table>\n",
              "</div>"
            ],
            "text/plain": [
              "                0\n",
              "count   10.000000\n",
              "mean    55.000000\n",
              "std     30.276504\n",
              "min     10.000000\n",
              "25%     32.500000\n",
              "50%     55.000000\n",
              "75%     77.500000\n",
              "max    100.000000"
            ]
          },
          "metadata": {},
          "execution_count": 153
        }
      ]
    },
    {
      "cell_type": "code",
      "metadata": {
        "colab": {
          "base_uri": "https://localhost:8080/"
        },
        "id": "rLR8SB-W_jDT",
        "outputId": "a7a22aec-4edb-4ab1-fbe8-302c6fe7783b"
      },
      "source": [
        "#ラベル付き配列(二次元)1行取り出す\n",
        "import pandas as pd\n",
        "\n",
        "a = pd.DataFrame([[10,True],\n",
        "                  [20,True],\n",
        "                  [30,False]])\n",
        "a.index = [\"row0\",\"row1\",\"row2\"]\n",
        "a.columns = [\"col0\",\"col1\"]\n",
        "r = a.loc[\"row1\",:] #1行取り出す\n",
        "print(type(r))\n",
        "print(r)"
      ],
      "execution_count": 164,
      "outputs": [
        {
          "output_type": "stream",
          "name": "stdout",
          "text": [
            "<class 'pandas.core.series.Series'>\n",
            "col0      20\n",
            "col1    True\n",
            "Name: row1, dtype: object\n"
          ]
        }
      ]
    },
    {
      "cell_type": "code",
      "metadata": {
        "colab": {
          "base_uri": "https://localhost:8080/"
        },
        "id": "5U_SIBKOAwI_",
        "outputId": "b5852a85-c021-490b-a5c6-039f12498ae4"
      },
      "source": [
        "#ラベル付き配列(二次元)1列取り出す\n",
        "import pandas as pd\n",
        "\n",
        "a = pd.DataFrame([[10,True],\n",
        "                  [20,True],\n",
        "                  [30,False]])\n",
        "a.index = [\"row0\",\"row1\",\"row2\"]\n",
        "a.columns = [\"col0\",\"col1\"]\n",
        "c = a.loc[:,\"col1\"] #1列取り出す\n",
        "print(type(c))\n",
        "print(c)"
      ],
      "execution_count": 165,
      "outputs": [
        {
          "output_type": "stream",
          "name": "stdout",
          "text": [
            "<class 'pandas.core.series.Series'>\n",
            "row0     True\n",
            "row1     True\n",
            "row2    False\n",
            "Name: col1, dtype: bool\n"
          ]
        }
      ]
    },
    {
      "cell_type": "code",
      "metadata": {
        "colab": {
          "base_uri": "https://localhost:8080/"
        },
        "id": "z2o6_i8UBw3Y",
        "outputId": "522edf89-ac8f-4d29-d940-e99284ea0285"
      },
      "source": [
        "#ラベル付き配列(二次元)範囲指定\n",
        "import pandas as pd\n",
        "\n",
        "a = pd.DataFrame([[1,10,100,1000,10000],\n",
        "                  [2,20,200,2000,20000],\n",
        "                  [3,30,300,3000,30000],\n",
        "                  [4,40,400,4000,40000],\n",
        "                  [5,50,500,5000,50000]])\n",
        "rng = a.iloc[2:5,:2] #範囲指定\n",
        "print(type(rng))\n",
        "print(rng)"
      ],
      "execution_count": 168,
      "outputs": [
        {
          "output_type": "stream",
          "name": "stdout",
          "text": [
            "<class 'pandas.core.frame.DataFrame'>\n",
            "   0   1\n",
            "2  3  30\n",
            "3  4  40\n",
            "4  5  50\n"
          ]
        }
      ]
    },
    {
      "cell_type": "code",
      "metadata": {
        "colab": {
          "base_uri": "https://localhost:8080/",
          "height": 172
        },
        "id": "YIpKanZmD7Ls",
        "outputId": "3d41de46-bbf4-449a-9782-8503d4e73fa1"
      },
      "source": [
        "#ラベル付き配列(二次元)行を追加\n",
        "import pandas as pd\n",
        "\n",
        "a = pd.DataFrame([[10,True],\n",
        "                  [20,True],\n",
        "                  [30,False]])\n",
        "a.index = [\"row0\",\"row1\",\"row2\"]\n",
        "a.columns = [\"col0\",\"col1\"]\n",
        "\n",
        "# Seriesを行として追加\n",
        "a.loc[\"row3\"] = pd.Series([40,False], index=[\"col0\",\"col1\"], name=\"row3\")\n",
        "\n",
        "a #ノートブックではprintを使わなくても表示が可能"
      ],
      "execution_count": 171,
      "outputs": [
        {
          "output_type": "execute_result",
          "data": {
            "text/html": [
              "<div>\n",
              "<style scoped>\n",
              "    .dataframe tbody tr th:only-of-type {\n",
              "        vertical-align: middle;\n",
              "    }\n",
              "\n",
              "    .dataframe tbody tr th {\n",
              "        vertical-align: top;\n",
              "    }\n",
              "\n",
              "    .dataframe thead th {\n",
              "        text-align: right;\n",
              "    }\n",
              "</style>\n",
              "<table border=\"1\" class=\"dataframe\">\n",
              "  <thead>\n",
              "    <tr style=\"text-align: right;\">\n",
              "      <th></th>\n",
              "      <th>col0</th>\n",
              "      <th>col1</th>\n",
              "    </tr>\n",
              "  </thead>\n",
              "  <tbody>\n",
              "    <tr>\n",
              "      <th>row0</th>\n",
              "      <td>10</td>\n",
              "      <td>True</td>\n",
              "    </tr>\n",
              "    <tr>\n",
              "      <th>row1</th>\n",
              "      <td>20</td>\n",
              "      <td>True</td>\n",
              "    </tr>\n",
              "    <tr>\n",
              "      <th>row2</th>\n",
              "      <td>30</td>\n",
              "      <td>False</td>\n",
              "    </tr>\n",
              "    <tr>\n",
              "      <th>row3</th>\n",
              "      <td>40</td>\n",
              "      <td>False</td>\n",
              "    </tr>\n",
              "  </tbody>\n",
              "</table>\n",
              "</div>"
            ],
            "text/plain": [
              "      col0   col1\n",
              "row0    10   True\n",
              "row1    20   True\n",
              "row2    30  False\n",
              "row3    40  False"
            ]
          },
          "metadata": {},
          "execution_count": 171
        }
      ]
    },
    {
      "cell_type": "code",
      "metadata": {
        "colab": {
          "base_uri": "https://localhost:8080/",
          "height": 142
        },
        "id": "sSM4O-NMFCiu",
        "outputId": "d775d3ff-5809-4e3d-bfb4-f9d2a73b2ea3"
      },
      "source": [
        "#ラベル付き配列(二次元)列を追加\n",
        "import pandas as pd\n",
        "\n",
        "a = pd.DataFrame([[10,True],\n",
        "                  [20,True],\n",
        "                  [30,False]])\n",
        "a.index = [\"row0\",\"row1\",\"row2\"]\n",
        "a.columns = [\"col0\",\"col1\"]\n",
        "\n",
        "a[\"col2\"] = [1000,2000,3000]\n",
        "\n",
        "a #ノートブックではprintを使わなくても表示が可能"
      ],
      "execution_count": 173,
      "outputs": [
        {
          "output_type": "execute_result",
          "data": {
            "text/html": [
              "<div>\n",
              "<style scoped>\n",
              "    .dataframe tbody tr th:only-of-type {\n",
              "        vertical-align: middle;\n",
              "    }\n",
              "\n",
              "    .dataframe tbody tr th {\n",
              "        vertical-align: top;\n",
              "    }\n",
              "\n",
              "    .dataframe thead th {\n",
              "        text-align: right;\n",
              "    }\n",
              "</style>\n",
              "<table border=\"1\" class=\"dataframe\">\n",
              "  <thead>\n",
              "    <tr style=\"text-align: right;\">\n",
              "      <th></th>\n",
              "      <th>col0</th>\n",
              "      <th>col1</th>\n",
              "      <th>col2</th>\n",
              "    </tr>\n",
              "  </thead>\n",
              "  <tbody>\n",
              "    <tr>\n",
              "      <th>row0</th>\n",
              "      <td>10</td>\n",
              "      <td>True</td>\n",
              "      <td>1000</td>\n",
              "    </tr>\n",
              "    <tr>\n",
              "      <th>row1</th>\n",
              "      <td>20</td>\n",
              "      <td>True</td>\n",
              "      <td>2000</td>\n",
              "    </tr>\n",
              "    <tr>\n",
              "      <th>row2</th>\n",
              "      <td>30</td>\n",
              "      <td>False</td>\n",
              "      <td>3000</td>\n",
              "    </tr>\n",
              "  </tbody>\n",
              "</table>\n",
              "</div>"
            ],
            "text/plain": [
              "      col0   col1  col2\n",
              "row0    10   True  1000\n",
              "row1    20   True  2000\n",
              "row2    30  False  3000"
            ]
          },
          "metadata": {},
          "execution_count": 173
        }
      ]
    },
    {
      "cell_type": "code",
      "metadata": {
        "colab": {
          "base_uri": "https://localhost:8080/",
          "height": 203
        },
        "id": "1F6jUcwQHLLT",
        "outputId": "81426226-27b5-4d13-d200-aa3461b2b2b0"
      },
      "source": [
        "#ラベル付き配列(二次元)ソート\n",
        "import pandas as pd\n",
        "\n",
        "a = pd.DataFrame([[50,True],\n",
        "                  [20,True],\n",
        "                  [10,True],\n",
        "                  [40,True],\n",
        "                  [30,False]])\n",
        "a.index = [\"row0\",\"row1\",\"row2\",\"row4\",\"row5\"]\n",
        "a.columns = [\"col0\",\"col1\"]\n",
        "a.sort_values(by=\"col0\",ascending=False)\n"
      ],
      "execution_count": 177,
      "outputs": [
        {
          "output_type": "execute_result",
          "data": {
            "text/html": [
              "<div>\n",
              "<style scoped>\n",
              "    .dataframe tbody tr th:only-of-type {\n",
              "        vertical-align: middle;\n",
              "    }\n",
              "\n",
              "    .dataframe tbody tr th {\n",
              "        vertical-align: top;\n",
              "    }\n",
              "\n",
              "    .dataframe thead th {\n",
              "        text-align: right;\n",
              "    }\n",
              "</style>\n",
              "<table border=\"1\" class=\"dataframe\">\n",
              "  <thead>\n",
              "    <tr style=\"text-align: right;\">\n",
              "      <th></th>\n",
              "      <th>col0</th>\n",
              "      <th>col1</th>\n",
              "    </tr>\n",
              "  </thead>\n",
              "  <tbody>\n",
              "    <tr>\n",
              "      <th>row0</th>\n",
              "      <td>50</td>\n",
              "      <td>True</td>\n",
              "    </tr>\n",
              "    <tr>\n",
              "      <th>row4</th>\n",
              "      <td>40</td>\n",
              "      <td>True</td>\n",
              "    </tr>\n",
              "    <tr>\n",
              "      <th>row5</th>\n",
              "      <td>30</td>\n",
              "      <td>False</td>\n",
              "    </tr>\n",
              "    <tr>\n",
              "      <th>row1</th>\n",
              "      <td>20</td>\n",
              "      <td>True</td>\n",
              "    </tr>\n",
              "    <tr>\n",
              "      <th>row2</th>\n",
              "      <td>10</td>\n",
              "      <td>True</td>\n",
              "    </tr>\n",
              "  </tbody>\n",
              "</table>\n",
              "</div>"
            ],
            "text/plain": [
              "      col0   col1\n",
              "row0    50   True\n",
              "row4    40   True\n",
              "row5    30  False\n",
              "row1    20   True\n",
              "row2    10   True"
            ]
          },
          "metadata": {},
          "execution_count": 177
        }
      ]
    },
    {
      "cell_type": "code",
      "metadata": {
        "id": "fejaCYi7HpQi"
      },
      "source": [
        ""
      ],
      "execution_count": null,
      "outputs": []
    }
  ]
}

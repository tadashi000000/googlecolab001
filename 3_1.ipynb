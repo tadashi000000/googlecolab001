{
  "nbformat": 4,
  "nbformat_minor": 0,
  "metadata": {
    "colab": {
      "name": "3_1.ipynb",
      "provenance": [],
      "collapsed_sections": [],
      "include_colab_link": true
    },
    "kernelspec": {
      "display_name": "Python 3",
      "language": "python",
      "name": "python3"
    },
    "language_info": {
      "codemirror_mode": {
        "name": "ipython",
        "version": 3
      },
      "file_extension": ".py",
      "mimetype": "text/x-python",
      "name": "python",
      "nbconvert_exporter": "python",
      "pygments_lexer": "ipython3",
      "version": "3.6.3"
    }
  },
  "cells": [
    {
      "cell_type": "markdown",
      "metadata": {
        "id": "view-in-github",
        "colab_type": "text"
      },
      "source": [
        "<a href=\"https://colab.research.google.com/github/tadashi000000/googlecolab001/blob/main/3_1.ipynb\" target=\"_parent\"><img src=\"https://colab.research.google.com/assets/colab-badge.svg\" alt=\"Open In Colab\"/></a>"
      ]
    },
    {
      "cell_type": "markdown",
      "metadata": {
        "id": "QK1qtAbx7DCH"
      },
      "source": [
        "## 3.1　Pythonの基礎\n",
        " "
      ]
    },
    {
      "cell_type": "markdown",
      "metadata": {
        "id": "ofKdJbhN7DCI"
      },
      "source": [
        "リスト3.1 変数に値を代入する  "
      ]
    },
    {
      "cell_type": "code",
      "metadata": {
        "id": "h7HH2NJB7DCJ"
      },
      "source": [
        "a = 123"
      ],
      "execution_count": null,
      "outputs": []
    },
    {
      "cell_type": "markdown",
      "metadata": {
        "id": "jd_BuH8D7DCM"
      },
      "source": [
        "リスト3.2 変数に様々な値を代入する"
      ]
    },
    {
      "cell_type": "code",
      "metadata": {
        "id": "C0gx76OP7DCN"
      },
      "source": [
        "a = 123             # 整数型（int）\n",
        "b = 123.456         # 浮動小数点型（float）\n",
        "c = \"Hello World!\"  # 文字列型（str）\n",
        "d = True            # 論理型（bool）\n",
        "e = [1, 2, 3]       # リスト型（list）"
      ],
      "execution_count": null,
      "outputs": []
    },
    {
      "cell_type": "markdown",
      "metadata": {
        "id": "eJckxxVj7DCP"
      },
      "source": [
        "リスト3.3 変数にbool値を代入し、演算を行う"
      ]
    },
    {
      "cell_type": "code",
      "metadata": {
        "id": "RlCGnHGH7DCP",
        "colab": {
          "base_uri": "https://localhost:8080/"
        },
        "outputId": "caee8738-7a9e-42f3-c8d8-56ef4befa887"
      },
      "source": [
        "a = True; b = False\n",
        "print(a+b)"
      ],
      "execution_count": null,
      "outputs": [
        {
          "output_type": "stream",
          "text": [
            "1\n"
          ],
          "name": "stdout"
        }
      ]
    },
    {
      "cell_type": "markdown",
      "metadata": {
        "id": "TL8PNWR07DCR"
      },
      "source": [
        "リスト3.4 指数表記で浮動小数点型P値を表示する"
      ]
    },
    {
      "cell_type": "code",
      "metadata": {
        "id": "evGs7Cue7DCS",
        "colab": {
          "base_uri": "https://localhost:8080/"
        },
        "outputId": "d0fab688-af0e-4c8d-e1b8-deab389b9e85"
      },
      "source": [
        "1.5e6   # 1.5x10の6乗 1500000\n",
        "1.5e-6  # 1.5x10の-6乗 0.0000015"
      ],
      "execution_count": null,
      "outputs": [
        {
          "output_type": "execute_result",
          "data": {
            "text/plain": [
              "1.5e-06"
            ]
          },
          "metadata": {},
          "execution_count": 4
        }
      ]
    },
    {
      "cell_type": "markdown",
      "metadata": {
        "id": "AioPKJ3q7DCU"
      },
      "source": [
        "リスト3.5 変数で様々な演算を行う"
      ]
    },
    {
      "cell_type": "code",
      "metadata": {
        "id": "hYmGSfid7DCU",
        "colab": {
          "base_uri": "https://localhost:8080/"
        },
        "outputId": "d12bc2c0-11d0-4883-b9cc-26c9a9389826"
      },
      "source": [
        "a = 3; b = 5\n",
        "\n",
        "c = a + b               # 足し算\n",
        "print(c) \n",
        "\n",
        "d = a < b               # 比較（aはbより小さいか）\n",
        "print(d)\n",
        "\n",
        "e = 3 < 4 and 4 < 5     # 論理和\n",
        "print(e)"
      ],
      "execution_count": null,
      "outputs": [
        {
          "output_type": "stream",
          "text": [
            "8\n",
            "True\n",
            "True\n"
          ],
          "name": "stdout"
        }
      ]
    },
    {
      "cell_type": "markdown",
      "metadata": {
        "id": "BBT3UlBN7DCX"
      },
      "source": [
        "リスト3.6 リストの基本的な使い方  "
      ]
    },
    {
      "cell_type": "code",
      "metadata": {
        "id": "Qi_hyR077DCY",
        "colab": {
          "base_uri": "https://localhost:8080/"
        },
        "outputId": "d49528d0-a59c-411c-f784-bed464d1e331"
      },
      "source": [
        "a = [1, 2, 3, 4, 5]     # リストの作成\n",
        "\n",
        "b = a[3]                # インデックスが3の要素を取得\n",
        "print(b)\n",
        "\n",
        "a.append(6)             # 末尾に要素を追加\n",
        "print(a)\n",
        "\n",
        "a[2] = 99                # 要素を入れ替える\n",
        "print(a)"
      ],
      "execution_count": null,
      "outputs": [
        {
          "output_type": "stream",
          "text": [
            "4\n",
            "[1, 2, 3, 4, 5, 6]\n",
            "[1, 2, 99, 4, 5, 6]\n"
          ],
          "name": "stdout"
        }
      ]
    },
    {
      "cell_type": "markdown",
      "metadata": {
        "id": "33Tx-KRc7DCZ"
      },
      "source": [
        "リスト3.7 タプルの作成と要素の取得"
      ]
    },
    {
      "cell_type": "code",
      "metadata": {
        "id": "uMW9UFiP7DCa",
        "colab": {
          "base_uri": "https://localhost:8080/"
        },
        "outputId": "59ba3110-c1c6-461b-c1a7-ffaf03d76af0"
      },
      "source": [
        "a = (1, 2, 3, 4, 5)     # タプルの作成\n",
        "\n",
        "b = a[2]                # インデックスが2の要素を取得\n",
        "print(b)"
      ],
      "execution_count": null,
      "outputs": [
        {
          "output_type": "stream",
          "text": [
            "3\n"
          ],
          "name": "stdout"
        }
      ]
    },
    {
      "cell_type": "markdown",
      "metadata": {
        "id": "KrLdlqyL7DCc"
      },
      "source": [
        "リスト3.8 要素が1つだけのタプル"
      ]
    },
    {
      "cell_type": "code",
      "metadata": {
        "id": "yYM0zYcJ7DCc",
        "colab": {
          "base_uri": "https://localhost:8080/"
        },
        "outputId": "83eb6971-c529-43c7-84be-de1c0e1f178d"
      },
      "source": [
        "(2,)"
      ],
      "execution_count": null,
      "outputs": [
        {
          "output_type": "execute_result",
          "data": {
            "text/plain": [
              "(2,)"
            ]
          },
          "metadata": {},
          "execution_count": 8
        }
      ]
    },
    {
      "cell_type": "markdown",
      "metadata": {
        "id": "c-QGdMhd7DCe"
      },
      "source": [
        "リスト3.9 リスト、タプルの要素を一度で変数に代入する"
      ]
    },
    {
      "cell_type": "code",
      "metadata": {
        "id": "9RrDK9fF7DCf",
        "colab": {
          "base_uri": "https://localhost:8080/"
        },
        "outputId": "dbd4c9c5-0597-44bf-8a26-8f780c39844f"
      },
      "source": [
        "a = [1, 2, 3]  # リスト\n",
        "a1, a2, a3 = a\n",
        "print(a1, a2, a3)\n",
        "\n",
        "b = (4, 5, 6)  # タプル\n",
        "b1, b2, b3 = b\n",
        "print(b1, b2, b3) "
      ],
      "execution_count": null,
      "outputs": [
        {
          "output_type": "stream",
          "text": [
            "1 2 3\n",
            "4 5 6\n"
          ],
          "name": "stdout"
        }
      ]
    },
    {
      "cell_type": "markdown",
      "metadata": {
        "id": "NkynT8abLLvF"
      },
      "source": [
        "リスト3.10 辞書の使用例"
      ]
    },
    {
      "cell_type": "code",
      "metadata": {
        "id": "_Mrxui8mLQ5P",
        "colab": {
          "base_uri": "https://localhost:8080/"
        },
        "outputId": "1da336f2-e1b4-4556-bc1b-a39716e3d4d6"
      },
      "source": [
        "a = {\"Artificial\":1, \"Intelligence\":2}  # 辞書の作成\n",
        "print(a[\"Artificial\"])   # \"Artificial\"のキーを持つ値を取得\n",
        "\n",
        "a[\"Intelligence\"] = 7  # 値の入れ替え\n",
        "print(a)\n",
        "\n",
        "a[\"ML\"] = 3  # 要素の追加\n",
        "print(a)"
      ],
      "execution_count": null,
      "outputs": [
        {
          "output_type": "stream",
          "text": [
            "1\n",
            "{'Artificial': 1, 'Intelligence': 7}\n",
            "{'Artificial': 1, 'Intelligence': 7, 'ML': 3}\n"
          ],
          "name": "stdout"
        }
      ]
    },
    {
      "cell_type": "markdown",
      "metadata": {
        "id": "G81yoB67NkfO"
      },
      "source": [
        "リスト3.11 セットの基本的な使い方の例"
      ]
    },
    {
      "cell_type": "code",
      "metadata": {
        "id": "gEUH0JJhOasI",
        "colab": {
          "base_uri": "https://localhost:8080/"
        },
        "outputId": "0694aa8d-45d0-4e62-821d-d4bb549d1199"
      },
      "source": [
        "a = [1, 1, 2, 3, 4, 4, 5, 5, 5]  # リスト\n",
        "print(a)\n",
        "\n",
        "b = set(a)  # セットに変換\n",
        "print(b)\n",
        "\n",
        "b.add(6)  # 値を追加\n",
        "print(b)\n",
        "\n",
        "b.remove(3)  # 値を削除\n",
        "print(b)"
      ],
      "execution_count": null,
      "outputs": [
        {
          "output_type": "stream",
          "text": [
            "[1, 1, 2, 3, 4, 4, 5, 5, 5]\n",
            "{1, 2, 3, 4, 5}\n",
            "{1, 2, 3, 4, 5, 6}\n",
            "{1, 2, 4, 5, 6}\n"
          ],
          "name": "stdout"
        }
      ]
    },
    {
      "cell_type": "markdown",
      "metadata": {
        "id": "vOkphdpi7DCh"
      },
      "source": [
        "リスト3.12 if文の使い方の例"
      ]
    },
    {
      "cell_type": "code",
      "metadata": {
        "id": "mgzqzezO7DCh",
        "colab": {
          "base_uri": "https://localhost:8080/"
        },
        "outputId": "02140efa-2a5b-4906-ddea-4abf487aaa8c"
      },
      "source": [
        "a = 13\n",
        "if a < 12:\n",
        "    print(\"Good morning!\")\n",
        "elif a < 17:\n",
        "    print(\"Good afternoon!\")\n",
        "elif a < 21:\n",
        "    print(\"Good evening!\")\n",
        "else:\n",
        "    print(\"Good night!\")"
      ],
      "execution_count": null,
      "outputs": [
        {
          "output_type": "stream",
          "text": [
            "Good afternoon!\n"
          ],
          "name": "stdout"
        }
      ]
    },
    {
      "cell_type": "markdown",
      "metadata": {
        "id": "4ikn14Eq7DCj"
      },
      "source": [
        "リスト3.13 for文の使い方の例"
      ]
    },
    {
      "cell_type": "code",
      "metadata": {
        "id": "qf8iaf9V7DCj",
        "colab": {
          "base_uri": "https://localhost:8080/"
        },
        "outputId": "85d5aecb-adc7-489f-ff37-240814f7a982"
      },
      "source": [
        "for a in [3, 5, 9, 17]:    # リストを使ったfor文\n",
        "    print(a)\n",
        "    \n",
        "for a in range(5):      # rangeを使ったfor文\n",
        "    print(a)"
      ],
      "execution_count": null,
      "outputs": [
        {
          "output_type": "stream",
          "text": [
            "3\n",
            "5\n",
            "9\n",
            "17\n",
            "0\n",
            "1\n",
            "2\n",
            "3\n",
            "4\n"
          ],
          "name": "stdout"
        }
      ]
    },
    {
      "cell_type": "markdown",
      "metadata": {
        "id": "FKQ9lg_NFEoJ"
      },
      "source": [
        "リスト3.14 while文の使い方の例 \n"
      ]
    },
    {
      "cell_type": "code",
      "metadata": {
        "id": "vFVOuNokFKV3",
        "colab": {
          "base_uri": "https://localhost:8080/"
        },
        "outputId": "f8248eb3-9b1a-4c60-a575-45b35aeaade5"
      },
      "source": [
        "a = 0\n",
        "while a < 3:  # aが3より小さい間繰り返し処理\n",
        "    print(a)\n",
        "    a += 1"
      ],
      "execution_count": null,
      "outputs": [
        {
          "output_type": "stream",
          "text": [
            "0\n",
            "1\n",
            "2\n"
          ],
          "name": "stdout"
        }
      ]
    },
    {
      "cell_type": "markdown",
      "metadata": {
        "id": "jdyK90d_GJzn"
      },
      "source": [
        "リスト3.15 内包表記の使い方の例"
      ]
    },
    {
      "cell_type": "code",
      "metadata": {
        "id": "qncEVtHrHNkM",
        "colab": {
          "base_uri": "https://localhost:8080/"
        },
        "outputId": "1c9d34cb-5b24-4440-b25a-2931616c19f2"
      },
      "source": [
        "a = [1, 2, 3, 4, 5, 6, 7]\n",
        "b = [c*2+1 for c in a]    # aの要素を2倍して1を足し新たなリストを作る\n",
        "print(b)"
      ],
      "execution_count": null,
      "outputs": [
        {
          "output_type": "stream",
          "text": [
            "[3, 5, 7, 9, 11, 13, 15]\n"
          ],
          "name": "stdout"
        }
      ]
    },
    {
      "cell_type": "markdown",
      "metadata": {
        "id": "BxlxFRAm-m3o"
      },
      "source": [
        "リスト3.16 関数の定義と実行"
      ]
    },
    {
      "cell_type": "code",
      "metadata": {
        "id": "xftbx6T4-m3p",
        "colab": {
          "base_uri": "https://localhost:8080/"
        },
        "outputId": "681d7025-189f-401a-b551-a5a4612e2194"
      },
      "source": [
        "def add(a, b):          # 関数の定義（addが関数名）\n",
        "    c = a + b\n",
        "    return c\n",
        "\n",
        "print(add(2, 3))        # 関数の実行"
      ],
      "execution_count": null,
      "outputs": [
        {
          "output_type": "stream",
          "text": [
            "5\n"
          ],
          "name": "stdout"
        }
      ]
    },
    {
      "cell_type": "markdown",
      "metadata": {
        "id": "L8xd1JMv-m3s"
      },
      "source": [
        "リスト3.17 関数と引数  "
      ]
    },
    {
      "cell_type": "code",
      "metadata": {
        "id": "-Tnd7UjE-m3t",
        "colab": {
          "base_uri": "https://localhost:8080/"
        },
        "outputId": "4bd2fd5c-99dc-4a9e-eb2a-3e78b448930d"
      },
      "source": [
        "def add(a, b=4):        # 第2引数にデフォルト値を設定\n",
        "    c = a + b\n",
        "    return c\n",
        "\n",
        "print(add(3))           # 第2引数は指定しない"
      ],
      "execution_count": null,
      "outputs": [
        {
          "output_type": "stream",
          "text": [
            "7\n"
          ],
          "name": "stdout"
        }
      ]
    },
    {
      "cell_type": "markdown",
      "metadata": {
        "id": "WDX63lI8-m3v"
      },
      "source": [
        "リスト3.18 関数にタプル型引数を代入"
      ]
    },
    {
      "cell_type": "code",
      "metadata": {
        "id": "uzH_ICO3-m3w",
        "colab": {
          "base_uri": "https://localhost:8080/"
        },
        "outputId": "9255b0d1-c8a8-499b-f935-234ad6561adb"
      },
      "source": [
        "def add(a, b ,c):\n",
        "    d = a + b + c\n",
        "    print(d)\n",
        "\n",
        "e = (2, 4, 6)\n",
        "add(*e)           # 複数の引数を一度に渡す"
      ],
      "execution_count": null,
      "outputs": [
        {
          "output_type": "stream",
          "text": [
            "12\n"
          ],
          "name": "stdout"
        }
      ]
    },
    {
      "cell_type": "markdown",
      "metadata": {
        "id": "DtAbWNWw-m3y"
      },
      "source": [
        "リスト3.19 グローバル変数とローカル変数のスコープ"
      ]
    },
    {
      "cell_type": "code",
      "metadata": {
        "id": "3pD2XU7t-m3y",
        "colab": {
          "base_uri": "https://localhost:8080/"
        },
        "outputId": "d1304c38-b945-4e34-aafe-12bc726fe2aa"
      },
      "source": [
        "a = 21         # グローバル変数\n",
        "\n",
        "def showNumbers():\n",
        "    b = 43     # ローカル変数\n",
        "    print(a, b)\n",
        "    \n",
        "showNumbers()"
      ],
      "execution_count": null,
      "outputs": [
        {
          "output_type": "stream",
          "text": [
            "21 43\n"
          ],
          "name": "stdout"
        }
      ]
    },
    {
      "cell_type": "markdown",
      "metadata": {
        "id": "j4BL7N5d-m30"
      },
      "source": [
        "リスト3.20 グローバル変数とローカル変数の性質"
      ]
    },
    {
      "cell_type": "code",
      "metadata": {
        "id": "7KOGz1gM-m31",
        "colab": {
          "base_uri": "https://localhost:8080/"
        },
        "outputId": "747270cd-b937-47c6-9d74-4c9d1d73edff"
      },
      "source": [
        "a = 21\n",
        "\n",
        "def setLocalNumber():\n",
        "    a = 43         # aはローカル変数とみなされる\n",
        "    print(\"Local:\", a)\n",
        "    \n",
        "setLocalNumber()\n",
        "print(\"Global:\", a)"
      ],
      "execution_count": null,
      "outputs": [
        {
          "output_type": "stream",
          "text": [
            "Local: 43\n",
            "Global: 21\n"
          ],
          "name": "stdout"
        }
      ]
    },
    {
      "cell_type": "markdown",
      "metadata": {
        "id": "pPidAnqa-m33"
      },
      "source": [
        "リスト3.21 グローバル変数であることを明記する"
      ]
    },
    {
      "cell_type": "code",
      "metadata": {
        "id": "ppg619df-m33",
        "colab": {
          "base_uri": "https://localhost:8080/"
        },
        "outputId": "da4b2fe8-7f1d-4f67-f132-965d9462b007"
      },
      "source": [
        "a = 21\n",
        "\n",
        "def setGlobalNumber():\n",
        "    global a            # グローバル変数であることを明記\n",
        "    a = 43\n",
        "    print(\"Global:\", a)\n",
        "    \n",
        "setGlobalNumber()\n",
        "print(\"Global:\", a)"
      ],
      "execution_count": null,
      "outputs": [
        {
          "output_type": "stream",
          "text": [
            "Global: 43\n",
            "Global: 43\n"
          ],
          "name": "stdout"
        }
      ]
    },
    {
      "cell_type": "markdown",
      "metadata": {
        "id": "zG9VcO-6-m35"
      },
      "source": [
        "リスト3.22 クラスの定義"
      ]
    },
    {
      "cell_type": "code",
      "metadata": {
        "id": "h9YW6LdV-m36"
      },
      "source": [
        "class Calc:  # Calcがクラス名\n",
        "    def __init__(self, a):\n",
        "        self.a = a\n",
        "   \n",
        "    def add(self, b):\n",
        "        print(self.a + b)\n",
        "        \n",
        "    def multiply(self, b):\n",
        "        print(self.a * b)"
      ],
      "execution_count": null,
      "outputs": []
    },
    {
      "cell_type": "markdown",
      "metadata": {
        "id": "f83MEU1X-m38"
      },
      "source": [
        "リスト3.23 インスタンスの生成  "
      ]
    },
    {
      "cell_type": "code",
      "metadata": {
        "id": "9le-T7MT-m39",
        "colab": {
          "base_uri": "https://localhost:8080/"
        },
        "outputId": "e808e1c7-1f90-4807-f83a-9870722fda93"
      },
      "source": [
        "calc = Calc(4)  # インスタンスcalcを生成\n",
        "calc.add(5)  # 4 + 5\n",
        "calc.multiply(4) # 4 × 4"
      ],
      "execution_count": null,
      "outputs": [
        {
          "output_type": "stream",
          "text": [
            "9\n",
            "16\n"
          ],
          "name": "stdout"
        }
      ]
    },
    {
      "cell_type": "markdown",
      "metadata": {
        "id": "rzg2Q5wv_QYO"
      },
      "source": [
        "リスト3.24 クラスの継承"
      ]
    },
    {
      "cell_type": "code",
      "metadata": {
        "id": "b-oYXKYp-m3_"
      },
      "source": [
        "class CalcNext(Calc):     # Calcを継承\n",
        "    def subtract(self, b):\n",
        "        print(self.a - b)\n",
        "        \n",
        "    def divide(self, b):\n",
        "        print(self.a / b)"
      ],
      "execution_count": null,
      "outputs": []
    },
    {
      "cell_type": "markdown",
      "metadata": {
        "id": "JlIMbpKY-m4B"
      },
      "source": [
        "リスト3.25 継承したクラスからインスタンスを生成"
      ]
    },
    {
      "cell_type": "code",
      "metadata": {
        "id": "nwLyVgWt-m4B",
        "colab": {
          "base_uri": "https://localhost:8080/"
        },
        "outputId": "0dfde9b5-2042-4560-ff17-bc4a8800d56e"
      },
      "source": [
        "calc_next = CalcNext(4)  # インスタンスcalc_nextを生成\n",
        "calc_next.add(5)  # 継承元のメソッド\n",
        "calc_next.multiply(5)  # 継承元のメソッド\n",
        "calc_next.subtract(5)\n",
        "calc_next.divide(5)"
      ],
      "execution_count": null,
      "outputs": [
        {
          "output_type": "stream",
          "text": [
            "9\n",
            "20\n",
            "-1\n",
            "0.8\n"
          ],
          "name": "stdout"
        }
      ]
    },
    {
      "cell_type": "markdown",
      "metadata": {
        "id": "PFRFL6hTN7Dg"
      },
      "source": [
        "リスト3.26 `__call__`()メソッドの例"
      ]
    },
    {
      "cell_type": "code",
      "metadata": {
        "id": "9L_WQzkLOu5q"
      },
      "source": [
        "class Calc:  # Calcクラス\n",
        "    def __init__(self, a):  # __init__メソッド\n",
        "        self.a = a\n",
        "\n",
        "    def __call__(self, c):  # __call__メソッド\n",
        "        print(self.a * c + c)\n",
        "\n",
        "    def add(self, b):  # addメソッド\n",
        "        print(self.a + b)\n",
        "\n",
        "    def multiply(self, b):  # multiplyメソッド\n",
        "        print(self.a * b)"
      ],
      "execution_count": null,
      "outputs": []
    },
    {
      "cell_type": "markdown",
      "metadata": {
        "id": "e_9hnzSsZloe"
      },
      "source": [
        "リスト3.27 インスタンス名を使ったメソッドの呼び出し"
      ]
    },
    {
      "cell_type": "code",
      "metadata": {
        "colab": {
          "base_uri": "https://localhost:8080/"
        },
        "id": "P57Zd24Lby5q",
        "outputId": "afe921ba-1f18-4d1c-e037-a27871a5f8bf"
      },
      "source": [
        "cl = Calc(3)  # インスタンスclを生成\n",
        "\n",
        "# インスタンス名clを使って__call__メソッドを呼ぶ\n",
        "cl(5)  # 3 × 5 + 5"
      ],
      "execution_count": null,
      "outputs": [
        {
          "output_type": "stream",
          "text": [
            "20\n"
          ],
          "name": "stdout"
        }
      ]
    },
    {
      "cell_type": "markdown",
      "metadata": {
        "id": "iI06xAN-W94U"
      },
      "source": [
        "リスト3.28 with構文を使ったファイルへの書き込み"
      ]
    },
    {
      "cell_type": "code",
      "metadata": {
        "id": "vC8DP5nV93TP"
      },
      "source": [
        "greetings = \"Good morning!\\nGood afternoon!\\nGood evening!\\nGood night!\"\n",
        "\n",
        "with open(\"greetings.txt\", \"w\") as f:\n",
        "    f.write(greetings)  # ファイルに保存"
      ],
      "execution_count": null,
      "outputs": []
    },
    {
      "cell_type": "markdown",
      "metadata": {
        "id": "Tjp3EXIBXsXc"
      },
      "source": [
        "リスト3.29 with構文を使ったファイルの読み込み"
      ]
    },
    {
      "cell_type": "code",
      "metadata": {
        "id": "APsIqyhbVXZb",
        "colab": {
          "base_uri": "https://localhost:8080/"
        },
        "outputId": "6709801d-7050-4f02-88f3-6580d3ed0fa0"
      },
      "source": [
        "with open(\"greetings.txt\", \"r\") as f:\n",
        "    print(f.read())  # ファイルの読み込み"
      ],
      "execution_count": null,
      "outputs": [
        {
          "output_type": "stream",
          "text": [
            "Good morning!\n",
            "Good afternoon!\n",
            "Good evening!\n",
            "Good night!\n"
          ],
          "name": "stdout"
        }
      ]
    },
    {
      "cell_type": "markdown",
      "metadata": {
        "id": "j3_-aPkCVYi7"
      },
      "source": [
        "リスト3.30 端末からGoogle Colabratoryへのアップロード"
      ]
    },
    {
      "cell_type": "code",
      "metadata": {
        "id": "du4bG-t8aKVc",
        "colab": {
          "resources": {
            "http://localhost:8080/nbextensions/google.colab/files.js": {
              "data": "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",
              "ok": true,
              "headers": [
                [
                  "content-type",
                  "application/javascript"
                ]
              ],
              "status": 200,
              "status_text": ""
            }
          },
          "base_uri": "https://localhost:8080/",
          "height": 146
        },
        "outputId": "6c0b04b9-5dc4-4e32-e219-05b66e7204ae"
      },
      "source": [
        "from google.colab import files\n",
        "\n",
        "uploaded = files.upload()\n",
        "for key in uploaded.keys():\n",
        "    print(uploaded[key].decode(\"utf-8\"))"
      ],
      "execution_count": null,
      "outputs": [
        {
          "output_type": "display_data",
          "data": {
            "text/html": [
              "\n",
              "     <input type=\"file\" id=\"files-796bef0d-e248-4843-b020-ca6e2a2f1115\" name=\"files[]\" multiple disabled\n",
              "        style=\"border:none\" />\n",
              "     <output id=\"result-796bef0d-e248-4843-b020-ca6e2a2f1115\">\n",
              "      Upload widget is only available when the cell has been executed in the\n",
              "      current browser session. Please rerun this cell to enable.\n",
              "      </output>\n",
              "      <script src=\"/nbextensions/google.colab/files.js\"></script> "
            ],
            "text/plain": [
              "<IPython.core.display.HTML object>"
            ]
          },
          "metadata": {
            "tags": []
          }
        },
        {
          "output_type": "stream",
          "text": [
            "Saving greetings.txt to greetings (1).txt\n",
            "Good morning!\n",
            "Good afternoon!\n",
            "Good evening!\n",
            "Good night!\n"
          ],
          "name": "stdout"
        }
      ]
    },
    {
      "cell_type": "markdown",
      "metadata": {
        "id": "NNZn-awnpk5x"
      },
      "source": [
        "リスト3.31 Google Colabratoryから端末へのダウンロード"
      ]
    },
    {
      "cell_type": "code",
      "metadata": {
        "id": "7iKJyu0xd5JW",
        "colab": {
          "base_uri": "https://localhost:8080/",
          "height": 17
        },
        "outputId": "e4b539e8-11a7-4688-cb28-12618f615643"
      },
      "source": [
        "files.download(\"greetings.txt\")"
      ],
      "execution_count": null,
      "outputs": [
        {
          "output_type": "display_data",
          "data": {
            "application/javascript": [
              "\n",
              "    async function download(id, filename, size) {\n",
              "      if (!google.colab.kernel.accessAllowed) {\n",
              "        return;\n",
              "      }\n",
              "      const div = document.createElement('div');\n",
              "      const label = document.createElement('label');\n",
              "      label.textContent = `Downloading \"${filename}\": `;\n",
              "      div.appendChild(label);\n",
              "      const progress = document.createElement('progress');\n",
              "      progress.max = size;\n",
              "      div.appendChild(progress);\n",
              "      document.body.appendChild(div);\n",
              "\n",
              "      const buffers = [];\n",
              "      let downloaded = 0;\n",
              "\n",
              "      const channel = await google.colab.kernel.comms.open(id);\n",
              "      // Send a message to notify the kernel that we're ready.\n",
              "      channel.send({})\n",
              "\n",
              "      for await (const message of channel.messages) {\n",
              "        // Send a message to notify the kernel that we're ready.\n",
              "        channel.send({})\n",
              "        if (message.buffers) {\n",
              "          for (const buffer of message.buffers) {\n",
              "            buffers.push(buffer);\n",
              "            downloaded += buffer.byteLength;\n",
              "            progress.value = downloaded;\n",
              "          }\n",
              "        }\n",
              "      }\n",
              "      const blob = new Blob(buffers, {type: 'application/binary'});\n",
              "      const a = document.createElement('a');\n",
              "      a.href = window.URL.createObjectURL(blob);\n",
              "      a.download = filename;\n",
              "      div.appendChild(a);\n",
              "      a.click();\n",
              "      div.remove();\n",
              "    }\n",
              "  "
            ],
            "text/plain": [
              "<IPython.core.display.Javascript object>"
            ]
          },
          "metadata": {
            "tags": []
          }
        },
        {
          "output_type": "display_data",
          "data": {
            "application/javascript": [
              "download(\"download_388a05c2-30ff-468d-833c-548ccd69a25b\", \"greetings.txt\", 55)"
            ],
            "text/plain": [
              "<IPython.core.display.Javascript object>"
            ]
          },
          "metadata": {
            "tags": []
          }
        }
      ]
    },
    {
      "cell_type": "markdown",
      "metadata": {
        "id": "KcHOX9LyZc2g"
      },
      "source": [
        "リスト3.32 Googleドライブのマウント"
      ]
    },
    {
      "cell_type": "code",
      "metadata": {
        "id": "7h7BA67Ed5wT",
        "colab": {
          "base_uri": "https://localhost:8080/"
        },
        "outputId": "56f18f0e-50f2-4575-e29d-6186e5dd9a4d"
      },
      "source": [
        "from google.colab import drive\n",
        "drive.mount('/content/drive/')"
      ],
      "execution_count": null,
      "outputs": [
        {
          "output_type": "stream",
          "text": [
            "Mounted at /content/drive/\n"
          ],
          "name": "stdout"
        }
      ]
    },
    {
      "cell_type": "markdown",
      "metadata": {
        "id": "OU0_B6zzsTJB"
      },
      "source": [
        "リスト3.33 Googleドライブへのファイル保存"
      ]
    },
    {
      "cell_type": "code",
      "metadata": {
        "id": "eoPANR3zmi7m"
      },
      "source": [
        "import os\n",
        "\n",
        "path = '/content/drive/My Drive/greetings/'\n",
        "\n",
        "# ディレクトリを作成する\n",
        "if not os.path.exists(path):\n",
        "    os.makedirs(path)\n",
        "\n",
        "# ファイルを保存する\n",
        "with open('/content/drive/My Drive/greetings/hello.txt', 'w') as f:\n",
        "    f.write(\"Hello!\")"
      ],
      "execution_count": null,
      "outputs": []
    }
  ]
}
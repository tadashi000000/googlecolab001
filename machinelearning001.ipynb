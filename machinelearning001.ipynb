{
  "nbformat": 4,
  "nbformat_minor": 0,
  "metadata": {
    "colab": {
      "name": "machinelearning001.ipynb",
      "provenance": [],
      "authorship_tag": "ABX9TyMNkwlY/zC2X4c7IUQ9obOy",
      "include_colab_link": true
    },
    "kernelspec": {
      "name": "python3",
      "display_name": "Python 3"
    },
    "language_info": {
      "name": "python"
    }
  },
  "cells": [
    {
      "cell_type": "markdown",
      "metadata": {
        "id": "view-in-github",
        "colab_type": "text"
      },
      "source": [
        "<a href=\"https://colab.research.google.com/github/tadashi000000/googlecolab001/blob/main/machinelearning001.ipynb\" target=\"_parent\"><img src=\"https://colab.research.google.com/assets/colab-badge.svg\" alt=\"Open In Colab\"/></a>"
      ]
    },
    {
      "cell_type": "markdown",
      "metadata": {
        "id": "1sYW6od-1ps3"
      },
      "source": [
        "機械学習用"
      ]
    },
    {
      "cell_type": "markdown",
      "metadata": {
        "id": "oHTNLX2V7hQ6"
      },
      "source": [
        "4-2-2 データの読込"
      ]
    },
    {
      "cell_type": "code",
      "metadata": {
        "colab": {
          "base_uri": "https://localhost:8080/"
        },
        "id": "orVfUJ5x1MOK",
        "outputId": "1d80c95c-e35b-4a36-e197-e5dc167c7653"
      },
      "source": [
        "import numpy as np\n",
        "from sklearn import datasets\n",
        "\n",
        "#150個、3品種のアイリスの花のサイズからなるデータセット\n",
        "#各花には4つの測定値と、品種を表す0から2のラベルがあります。データの総数は150です\n",
        "iris = datasets.load_iris()\n",
        "\n",
        "#測定値\n",
        "print(type(iris.data), end=''); print(iris.data.shape)\n",
        "print(iris.data[:10]) #4つの測定値を10組表示\n",
        "\n",
        "#ラベル\n",
        "print(type(iris.target), end=''); print(iris.target.shape)\n",
        "print(iris.target) #ラベルを全て表示"
      ],
      "execution_count": 38,
      "outputs": [
        {
          "output_type": "stream",
          "name": "stdout",
          "text": [
            "<class 'numpy.ndarray'>(150, 4)\n",
            "[[5.1 3.5 1.4 0.2]\n",
            " [4.9 3.  1.4 0.2]\n",
            " [4.7 3.2 1.3 0.2]\n",
            " [4.6 3.1 1.5 0.2]\n",
            " [5.  3.6 1.4 0.2]\n",
            " [5.4 3.9 1.7 0.4]\n",
            " [4.6 3.4 1.4 0.3]\n",
            " [5.  3.4 1.5 0.2]\n",
            " [4.4 2.9 1.4 0.2]\n",
            " [4.9 3.1 1.5 0.1]]\n",
            "<class 'numpy.ndarray'>(150,)\n",
            "[0 0 0 0 0 0 0 0 0 0 0 0 0 0 0 0 0 0 0 0 0 0 0 0 0 0 0 0 0 0 0 0 0 0 0 0 0\n",
            " 0 0 0 0 0 0 0 0 0 0 0 0 0 1 1 1 1 1 1 1 1 1 1 1 1 1 1 1 1 1 1 1 1 1 1 1 1\n",
            " 1 1 1 1 1 1 1 1 1 1 1 1 1 1 1 1 1 1 1 1 1 1 1 1 1 1 2 2 2 2 2 2 2 2 2 2 2\n",
            " 2 2 2 2 2 2 2 2 2 2 2 2 2 2 2 2 2 2 2 2 2 2 2 2 2 2 2 2 2 2 2 2 2 2 2 2 2\n",
            " 2 2]\n"
          ]
        }
      ]
    },
    {
      "cell_type": "markdown",
      "metadata": {
        "id": "Ssxa52vX7nuY"
      },
      "source": [
        "4-2-3 データの前処理"
      ]
    },
    {
      "cell_type": "code",
      "metadata": {
        "colab": {
          "base_uri": "https://localhost:8080/"
        },
        "id": "ghw89AJT3vjH",
        "outputId": "71be1ee2-59da-4978-f455-3cf96dc07ec2"
      },
      "source": [
        "from sklearn import preprocessing\n",
        "from keras.utils import np_utils\n",
        "\n",
        "# ---- 入力 データ ----\n",
        "#今回は、入力データへの前処理として、入力の標準化を行います。\n",
        "#標準化は、平均値が0、標準偏差が1になるように変換する処理です。\n",
        "scaler = preprocessing.StandardScaler() #標準化のためのスケーラー\n",
        "scaler.fit(iris.data) #変換のためのパラメータを計算\n",
        "x = scaler.transform(iris.data) #データの変換\n",
        "print(type(x),end=''); print(x.shape)\n",
        "print(x[:10]) #入力を10件表示\n",
        "\n",
        "# ---- 正解データ ----\n",
        "t = np_utils.to_categorical(iris.target) #ラベルをone-hot表現に変換\n",
        "print(type(t),end=''); print(t.shape)\n",
        "print(t[:10]) #正解ラベルを10件表示"
      ],
      "execution_count": 39,
      "outputs": [
        {
          "output_type": "stream",
          "name": "stdout",
          "text": [
            "<class 'numpy.ndarray'>(150, 4)\n",
            "[[-0.90068117  1.01900435 -1.34022653 -1.3154443 ]\n",
            " [-1.14301691 -0.13197948 -1.34022653 -1.3154443 ]\n",
            " [-1.38535265  0.32841405 -1.39706395 -1.3154443 ]\n",
            " [-1.50652052  0.09821729 -1.2833891  -1.3154443 ]\n",
            " [-1.02184904  1.24920112 -1.34022653 -1.3154443 ]\n",
            " [-0.53717756  1.93979142 -1.16971425 -1.05217993]\n",
            " [-1.50652052  0.78880759 -1.34022653 -1.18381211]\n",
            " [-1.02184904  0.78880759 -1.2833891  -1.3154443 ]\n",
            " [-1.74885626 -0.36217625 -1.34022653 -1.3154443 ]\n",
            " [-1.14301691  0.09821729 -1.2833891  -1.44707648]]\n",
            "<class 'numpy.ndarray'>(150, 3)\n",
            "[[1. 0. 0.]\n",
            " [1. 0. 0.]\n",
            " [1. 0. 0.]\n",
            " [1. 0. 0.]\n",
            " [1. 0. 0.]\n",
            " [1. 0. 0.]\n",
            " [1. 0. 0.]\n",
            " [1. 0. 0.]\n",
            " [1. 0. 0.]\n",
            " [1. 0. 0.]]\n"
          ]
        }
      ]
    },
    {
      "cell_type": "markdown",
      "metadata": {
        "id": "JGOYiki3I5e0"
      },
      "source": [
        "4-2-4 訓練とテストデータ"
      ]
    },
    {
      "cell_type": "code",
      "metadata": {
        "colab": {
          "base_uri": "https://localhost:8080/"
        },
        "id": "nFfe7MBGI7XA",
        "outputId": "4780a915-47a0-44d5-af78-402662404ca0"
      },
      "source": [
        "from sklearn.model_selection import train_test_split\n",
        "\n",
        "# x_train: 訓練用の入力データ\n",
        "# x_test: テスト用の入力データ\n",
        "# t_train: 訓練用の正解データ\n",
        "# t_test: テスト用の正解データ\n",
        "# train_size=0.75: 75%が訓練用、25%がテスト用\n",
        "x_train, x_test, t_train, t_test = train_test_split(x, t, train_size=0.75)\n",
        "\n",
        "print(type(x_train),end=''); print(x_train.shape)\n",
        "print(type(x_test),end=''); print(x_test.shape)\n",
        "print(type(t_train),end=''); print(t_train.shape)\n",
        "print(type(t_test),end=''); print(t_test.shape)\n"
      ],
      "execution_count": 40,
      "outputs": [
        {
          "output_type": "stream",
          "name": "stdout",
          "text": [
            "<class 'numpy.ndarray'>(112, 4)\n",
            "<class 'numpy.ndarray'>(38, 4)\n",
            "<class 'numpy.ndarray'>(112, 3)\n",
            "<class 'numpy.ndarray'>(38, 3)\n"
          ]
        }
      ]
    },
    {
      "cell_type": "markdown",
      "metadata": {
        "id": "FHTqfPUqI8p9"
      },
      "source": [
        "4-2-5 モデルの構築"
      ]
    },
    {
      "cell_type": "code",
      "metadata": {
        "colab": {
          "base_uri": "https://localhost:8080/"
        },
        "id": "r9iU7m3wPB2D",
        "outputId": "aefbe894-622e-477f-e60b-6482836fdf00"
      },
      "source": [
        "from tensorflow.keras.models import Sequential\n",
        "from tensorflow.keras.layers import Dense, Activation\n",
        "\n",
        "model = Sequential()\n",
        "\n",
        "model.add(Dense(32, input_dim=4)) # 4つの特徴が入力なので、入力の数は4、ニューロン数は32\n",
        "model.add(Activation('relu')) # 活性化関数（ReLU）を追加\n",
        "\n",
        "model.add(Dense(32)) # ニューロン数32の全結合層を追加\n",
        "model.add(Activation('relu')) # 活性化関数（ReLU）を追加\n",
        "\n",
        "model.add(Dense(3)) # 3つに分類するので、ニューロン数は3\n",
        "model.add(Activation('softmax')) # 3つ以上の分類にはソフトマックス関数を使用\n",
        "\n",
        "model.compile(optimizer='sgd', loss='categorical_crossentropy', metrics=['accuracy']) # モデルのコンパイル\n",
        "\n",
        "print(model.summary())"
      ],
      "execution_count": 41,
      "outputs": [
        {
          "output_type": "stream",
          "name": "stdout",
          "text": [
            "Model: \"sequential_2\"\n",
            "_________________________________________________________________\n",
            "Layer (type)                 Output Shape              Param #   \n",
            "=================================================================\n",
            "dense_6 (Dense)              (None, 32)                160       \n",
            "_________________________________________________________________\n",
            "activation_6 (Activation)    (None, 32)                0         \n",
            "_________________________________________________________________\n",
            "dense_7 (Dense)              (None, 32)                1056      \n",
            "_________________________________________________________________\n",
            "activation_7 (Activation)    (None, 32)                0         \n",
            "_________________________________________________________________\n",
            "dense_8 (Dense)              (None, 3)                 99        \n",
            "_________________________________________________________________\n",
            "activation_8 (Activation)    (None, 3)                 0         \n",
            "=================================================================\n",
            "Total params: 1,315\n",
            "Trainable params: 1,315\n",
            "Non-trainable params: 0\n",
            "_________________________________________________________________\n",
            "None\n"
          ]
        }
      ]
    },
    {
      "cell_type": "markdown",
      "metadata": {
        "id": "Mf31gkjJJBnq"
      },
      "source": [
        "4-2-6 学習"
      ]
    },
    {
      "cell_type": "code",
      "metadata": {
        "colab": {
          "base_uri": "https://localhost:8080/"
        },
        "id": "RDDhE9wCS7zr",
        "outputId": "7e2ef91f-4ab3-413d-805d-ce6e4d094046"
      },
      "source": [
        "history = model.fit(x_train, t_train, epochs=30, batch_size=8)"
      ],
      "execution_count": 42,
      "outputs": [
        {
          "output_type": "stream",
          "name": "stdout",
          "text": [
            "Epoch 1/30\n",
            "14/14 [==============================] - 0s 2ms/step - loss: 1.1836 - accuracy: 0.3304\n",
            "Epoch 2/30\n",
            "14/14 [==============================] - 0s 1ms/step - loss: 1.0593 - accuracy: 0.3929\n",
            "Epoch 3/30\n",
            "14/14 [==============================] - 0s 2ms/step - loss: 0.9576 - accuracy: 0.5089\n",
            "Epoch 4/30\n",
            "14/14 [==============================] - 0s 2ms/step - loss: 0.8719 - accuracy: 0.6518\n",
            "Epoch 5/30\n",
            "14/14 [==============================] - 0s 2ms/step - loss: 0.8028 - accuracy: 0.7054\n",
            "Epoch 6/30\n",
            "14/14 [==============================] - 0s 2ms/step - loss: 0.7467 - accuracy: 0.7411\n",
            "Epoch 7/30\n",
            "14/14 [==============================] - 0s 2ms/step - loss: 0.6989 - accuracy: 0.7321\n",
            "Epoch 8/30\n",
            "14/14 [==============================] - 0s 2ms/step - loss: 0.6568 - accuracy: 0.7589\n",
            "Epoch 9/30\n",
            "14/14 [==============================] - 0s 2ms/step - loss: 0.6206 - accuracy: 0.7589\n",
            "Epoch 10/30\n",
            "14/14 [==============================] - 0s 2ms/step - loss: 0.5889 - accuracy: 0.7768\n",
            "Epoch 11/30\n",
            "14/14 [==============================] - 0s 2ms/step - loss: 0.5615 - accuracy: 0.7768\n",
            "Epoch 12/30\n",
            "14/14 [==============================] - 0s 2ms/step - loss: 0.5374 - accuracy: 0.7857\n",
            "Epoch 13/30\n",
            "14/14 [==============================] - 0s 2ms/step - loss: 0.5149 - accuracy: 0.7857\n",
            "Epoch 14/30\n",
            "14/14 [==============================] - 0s 2ms/step - loss: 0.4957 - accuracy: 0.7946\n",
            "Epoch 15/30\n",
            "14/14 [==============================] - 0s 2ms/step - loss: 0.4787 - accuracy: 0.8036\n",
            "Epoch 16/30\n",
            "14/14 [==============================] - 0s 2ms/step - loss: 0.4632 - accuracy: 0.8125\n",
            "Epoch 17/30\n",
            "14/14 [==============================] - 0s 2ms/step - loss: 0.4488 - accuracy: 0.8125\n",
            "Epoch 18/30\n",
            "14/14 [==============================] - 0s 2ms/step - loss: 0.4354 - accuracy: 0.8125\n",
            "Epoch 19/30\n",
            "14/14 [==============================] - 0s 2ms/step - loss: 0.4228 - accuracy: 0.8304\n",
            "Epoch 20/30\n",
            "14/14 [==============================] - 0s 2ms/step - loss: 0.4120 - accuracy: 0.8304\n",
            "Epoch 21/30\n",
            "14/14 [==============================] - 0s 2ms/step - loss: 0.4008 - accuracy: 0.8393\n",
            "Epoch 22/30\n",
            "14/14 [==============================] - 0s 2ms/step - loss: 0.3911 - accuracy: 0.8304\n",
            "Epoch 23/30\n",
            "14/14 [==============================] - 0s 2ms/step - loss: 0.3816 - accuracy: 0.8482\n",
            "Epoch 24/30\n",
            "14/14 [==============================] - 0s 2ms/step - loss: 0.3728 - accuracy: 0.8482\n",
            "Epoch 25/30\n",
            "14/14 [==============================] - 0s 2ms/step - loss: 0.3639 - accuracy: 0.8482\n",
            "Epoch 26/30\n",
            "14/14 [==============================] - 0s 2ms/step - loss: 0.3559 - accuracy: 0.8750\n",
            "Epoch 27/30\n",
            "14/14 [==============================] - 0s 1ms/step - loss: 0.3480 - accuracy: 0.8750\n",
            "Epoch 28/30\n",
            "14/14 [==============================] - 0s 2ms/step - loss: 0.3408 - accuracy: 0.8750\n",
            "Epoch 29/30\n",
            "14/14 [==============================] - 0s 2ms/step - loss: 0.3345 - accuracy: 0.8661\n",
            "Epoch 30/30\n",
            "14/14 [==============================] - 0s 2ms/step - loss: 0.3268 - accuracy: 0.8661\n"
          ]
        }
      ]
    },
    {
      "cell_type": "markdown",
      "metadata": {
        "id": "jDrjlC4ZJD4U"
      },
      "source": [
        "4-2-7 学習の推移"
      ]
    },
    {
      "cell_type": "code",
      "metadata": {
        "colab": {
          "base_uri": "https://localhost:8080/",
          "height": 265
        },
        "id": "Qg6xU4lDTDeJ",
        "outputId": "3f3e1026-fc38-4fec-8981-3a3124b391b7"
      },
      "source": [
        "import matplotlib.pyplot as plt\n",
        "\n",
        "hist_loss = history.history['loss']  # 訓練用データの誤差\n",
        "hist_acc = history.history['accuracy']  # 訓練用データの精度（正解率）\n",
        "\n",
        "plt.plot(np.arange(len(hist_loss)), hist_loss, label='loss')  # 誤差\n",
        "plt.plot(np.arange(len(hist_acc)), hist_acc, label='accuracy')  # 精度（正解率）\n",
        "plt.legend()\n",
        "plt.show()"
      ],
      "execution_count": 43,
      "outputs": [
        {
          "output_type": "display_data",
          "data": {
            "image/png": "[encoded data removed]",
            "text/plain": [
              "<Figure size 432x288 with 1 Axes>"
            ]
          },
          "metadata": {
            "needs_background": "light"
          }
        }
      ]
    },
    {
      "cell_type": "markdown",
      "metadata": {
        "id": "GdBjEZw4JdLB"
      },
      "source": [
        "4-2-8 評価"
      ]
    },
    {
      "cell_type": "code",
      "metadata": {
        "id": "bC2SLoeFY84g",
        "outputId": "9ae1a2d6-d9b8-4bd8-8df4-88eaa447014c",
        "colab": {
          "base_uri": "https://localhost:8080/"
        }
      },
      "source": [
        "loss, accuracy = model.evaluate(x_test, t_test)\n",
        "print(\"誤差:\", loss, \"精度\", accuracy)"
      ],
      "execution_count": 44,
      "outputs": [
        {
          "output_type": "stream",
          "name": "stdout",
          "text": [
            "2/2 [==============================] - 0s 4ms/step - loss: 0.3957 - accuracy: 0.7895\n",
            "誤差: 0.395687460899353 精度 0.7894737124443054\n"
          ]
        }
      ]
    },
    {
      "cell_type": "markdown",
      "metadata": {
        "id": "STx3gJU6Ji96"
      },
      "source": [
        "4-2-9 予測"
      ]
    },
    {
      "cell_type": "code",
      "metadata": {
        "id": "rvo9nTZGZKUp",
        "outputId": "2b52221d-fd16-4018-cee3-82ab949455c2",
        "colab": {
          "base_uri": "https://localhost:8080/"
        }
      },
      "source": [
        "y_test = model.predict(x_test)\n",
        "print(type(y_test),end=''); print(y_test.shape)\n",
        "print(y_test[:10])  # 予測結果を10件表示"
      ],
      "execution_count": 46,
      "outputs": [
        {
          "output_type": "stream",
          "name": "stdout",
          "text": [
            "<class 'numpy.ndarray'>(38, 3)\n",
            "[[0.967312   0.0276159  0.00507211]\n",
            " [0.07308374 0.64048964 0.28642657]\n",
            " [0.9776923  0.01358576 0.00872194]\n",
            " [0.007051   0.13504972 0.8578993 ]\n",
            " [0.0090684  0.12873064 0.8622009 ]\n",
            " [0.01638062 0.12562405 0.8579953 ]\n",
            " [0.0450533  0.30593038 0.6490163 ]\n",
            " [0.0893231  0.465009   0.4456679 ]\n",
            " [0.17568812 0.5513018  0.2730102 ]\n",
            " [0.02474969 0.30754083 0.66770947]]\n"
          ]
        }
      ]
    },
    {
      "cell_type": "markdown",
      "metadata": {
        "id": "wFbcAN6gJqJ5"
      },
      "source": [
        "4-2-10 モデルの保存"
      ]
    },
    {
      "cell_type": "code",
      "metadata": {
        "id": "bGAZBx7OaoYS",
        "outputId": "8e35b1a0-f684-4546-c1a1-b1fb48501e62",
        "colab": {
          "base_uri": "https://localhost:8080/"
        }
      },
      "source": [
        "from tensorflow.keras.models import load_model\n",
        "\n",
        "model.save('model.h5')  # 保存\n",
        "load_model('model.h5')  # 読み込み"
      ],
      "execution_count": 47,
      "outputs": [
        {
          "output_type": "execute_result",
          "data": {
            "text/plain": [
              "<keras.engine.sequential.Sequential at 0x7f90c2342850>"
            ]
          },
          "metadata": {},
          "execution_count": 47
        }
      ]
    }
  ]
}
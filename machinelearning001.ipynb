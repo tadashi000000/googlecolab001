{
  "nbformat": 4,
  "nbformat_minor": 0,
  "metadata": {
    "colab": {
      "name": "machinelearning001.ipynb",
      "provenance": [],
      "authorship_tag": "ABX9TyMgZVBweW3EfOoE0YkV0Pjl",
      "include_colab_link": true
    },
    "kernelspec": {
      "name": "python3",
      "display_name": "Python 3"
    },
    "language_info": {
      "name": "python"
    }
  },
  "cells": [
    {
      "cell_type": "markdown",
      "metadata": {
        "id": "view-in-github",
        "colab_type": "text"
      },
      "source": [
        "<a href=\"https://colab.research.google.com/github/tadashi000000/googlecolab001/blob/main/machinelearning001.ipynb\" target=\"_parent\"><img src=\"https://colab.research.google.com/assets/colab-badge.svg\" alt=\"Open In Colab\"/></a>"
      ]
    },
    {
      "cell_type": "markdown",
      "metadata": {
        "id": "1sYW6od-1ps3"
      },
      "source": [
        "機械学習用"
      ]
    },
    {
      "cell_type": "markdown",
      "metadata": {
        "id": "oHTNLX2V7hQ6"
      },
      "source": [
        "4-2-2 データの読込"
      ]
    },
    {
      "cell_type": "code",
      "metadata": {
        "colab": {
          "base_uri": "https://localhost:8080/"
        },
        "id": "orVfUJ5x1MOK",
        "outputId": "7588405b-7eb8-4921-af32-f0bcebbc3cb4"
      },
      "source": [
        "from sklearn import datasets\n",
        "\n",
        "#150個、3品種のアイリスの花のサイズからなるデータセット\n",
        "#各花には4つの測定値と、品種を表す0から2のラベルがあります。データの総数は150です\n",
        "iris = datasets.load_iris()\n",
        "\n",
        "print(iris.data[:10]) #4つの測定値を10組表示\n",
        "print(iris.data.shape) #測定値データの形状を表示\n",
        "print(type(iris.data))\n",
        "print(iris.target) #ラベルを全て表示\n"
      ],
      "execution_count": 4,
      "outputs": [
        {
          "output_type": "stream",
          "name": "stdout",
          "text": [
            "[[5.1 3.5 1.4 0.2]\n",
            " [4.9 3.  1.4 0.2]\n",
            " [4.7 3.2 1.3 0.2]\n",
            " [4.6 3.1 1.5 0.2]\n",
            " [5.  3.6 1.4 0.2]\n",
            " [5.4 3.9 1.7 0.4]\n",
            " [4.6 3.4 1.4 0.3]\n",
            " [5.  3.4 1.5 0.2]\n",
            " [4.4 2.9 1.4 0.2]\n",
            " [4.9 3.1 1.5 0.1]]\n",
            "(150, 4)\n",
            "<class 'numpy.ndarray'>\n",
            "[0 0 0 0 0 0 0 0 0 0 0 0 0 0 0 0 0 0 0 0 0 0 0 0 0 0 0 0 0 0 0 0 0 0 0 0 0\n",
            " 0 0 0 0 0 0 0 0 0 0 0 0 0 1 1 1 1 1 1 1 1 1 1 1 1 1 1 1 1 1 1 1 1 1 1 1 1\n",
            " 1 1 1 1 1 1 1 1 1 1 1 1 1 1 1 1 1 1 1 1 1 1 1 1 1 1 2 2 2 2 2 2 2 2 2 2 2\n",
            " 2 2 2 2 2 2 2 2 2 2 2 2 2 2 2 2 2 2 2 2 2 2 2 2 2 2 2 2 2 2 2 2 2 2 2 2 2\n",
            " 2 2]\n"
          ]
        }
      ]
    },
    {
      "cell_type": "markdown",
      "metadata": {
        "id": "Ssxa52vX7nuY"
      },
      "source": [
        "4-2-3 データの前処理"
      ]
    },
    {
      "cell_type": "code",
      "metadata": {
        "colab": {
          "base_uri": "https://localhost:8080/"
        },
        "id": "ghw89AJT3vjH",
        "outputId": "07f0b487-bdb0-4cf9-ce86-747e1e1b6191"
      },
      "source": [
        "from sklearn import preprocessing\n",
        "from keras.utils import np_utils\n",
        "\n",
        "# ---- 入力 データ ----\n",
        "#今回は、入力データへの前処理として、入力の標準化を行います。\n",
        "#標準化は、平均値が0、標準偏差が1になるように変換する処理です。\n",
        "\n",
        "scaler = preprocessing.StandardScaler() #標準化のためのスケーラー\n",
        "scaler.fit(iris.data) #変換のためのパラメータを計算\n",
        "x = scaler.transform(iris.data) #データの変換\n",
        "print(x[:10]) #入力を10件表示\n",
        "\n",
        "# ---- 正解データ ----\n",
        "t = np_utils.to_categorical(iris.target) #ラベルをone-hot表現に変換\n",
        "print(t[:10]) #正解ラベルを10件表示"
      ],
      "execution_count": 3,
      "outputs": [
        {
          "output_type": "stream",
          "name": "stdout",
          "text": [
            "[[-0.90068117  1.01900435 -1.34022653 -1.3154443 ]\n",
            " [-1.14301691 -0.13197948 -1.34022653 -1.3154443 ]\n",
            " [-1.38535265  0.32841405 -1.39706395 -1.3154443 ]\n",
            " [-1.50652052  0.09821729 -1.2833891  -1.3154443 ]\n",
            " [-1.02184904  1.24920112 -1.34022653 -1.3154443 ]\n",
            " [-0.53717756  1.93979142 -1.16971425 -1.05217993]\n",
            " [-1.50652052  0.78880759 -1.34022653 -1.18381211]\n",
            " [-1.02184904  0.78880759 -1.2833891  -1.3154443 ]\n",
            " [-1.74885626 -0.36217625 -1.34022653 -1.3154443 ]\n",
            " [-1.14301691  0.09821729 -1.2833891  -1.44707648]]\n",
            "[[1. 0. 0.]\n",
            " [1. 0. 0.]\n",
            " [1. 0. 0.]\n",
            " [1. 0. 0.]\n",
            " [1. 0. 0.]\n",
            " [1. 0. 0.]\n",
            " [1. 0. 0.]\n",
            " [1. 0. 0.]\n",
            " [1. 0. 0.]\n",
            " [1. 0. 0.]]\n"
          ]
        }
      ]
    },
    {
      "cell_type": "code",
      "metadata": {
        "id": "ltrGBXzW6x_D"
      },
      "source": [
        ""
      ],
      "execution_count": null,
      "outputs": []
    }
  ]
}
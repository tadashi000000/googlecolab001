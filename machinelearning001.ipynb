{
  "nbformat": 4,
  "nbformat_minor": 0,
  "metadata": {
    "colab": {
      "name": "machinelearning001.ipynb",
      "provenance": [],
      "authorship_tag": "ABX9TyPVoiqQ0KwGnd/cIyw4znWm",
      "include_colab_link": true
    },
    "kernelspec": {
      "name": "python3",
      "display_name": "Python 3"
    },
    "language_info": {
      "name": "python"
    }
  },
  "cells": [
    {
      "cell_type": "markdown",
      "metadata": {
        "id": "view-in-github",
        "colab_type": "text"
      },
      "source": [
        "<a href=\"https://colab.research.google.com/github/tadashi000000/googlecolab001/blob/main/machinelearning001.ipynb\" target=\"_parent\"><img src=\"https://colab.research.google.com/assets/colab-badge.svg\" alt=\"Open In Colab\"/></a>"
      ]
    },
    {
      "cell_type": "markdown",
      "metadata": {
        "id": "1sYW6od-1ps3"
      },
      "source": [
        "機械学習用"
      ]
    },
    {
      "cell_type": "markdown",
      "metadata": {
        "id": "oHTNLX2V7hQ6"
      },
      "source": [
        "4-2-2 データの読込"
      ]
    },
    {
      "cell_type": "code",
      "metadata": {
        "colab": {
          "base_uri": "https://localhost:8080/"
        },
        "id": "orVfUJ5x1MOK",
        "outputId": "38491ce5-7126-440e-de33-ea9b8d9b8398"
      },
      "source": [
        "import numpy as np\n",
        "from sklearn import datasets\n",
        "\n",
        "#150個、3品種のアイリスの花のサイズからなるデータセット\n",
        "#各花には4つの測定値と、品種を表す0から2のラベルがあります。データの総数は150です\n",
        "iris = datasets.load_iris()\n",
        "\n",
        "#測定値\n",
        "print(type(iris.data), end=''); print(iris.data.shape)\n",
        "print(iris.data[:10]) #4つの測定値を10組表示\n",
        "\n",
        "#ラベル\n",
        "print(type(iris.target), end=''); print(iris.target.shape)\n",
        "print(iris.target) #ラベルを全て表示\n"
      ],
      "execution_count": 26,
      "outputs": [
        {
          "output_type": "stream",
          "name": "stdout",
          "text": [
            "<class 'numpy.ndarray'>(150, 4)\n",
            "[[5.1 3.5 1.4 0.2]\n",
            " [4.9 3.  1.4 0.2]\n",
            " [4.7 3.2 1.3 0.2]\n",
            " [4.6 3.1 1.5 0.2]\n",
            " [5.  3.6 1.4 0.2]\n",
            " [5.4 3.9 1.7 0.4]\n",
            " [4.6 3.4 1.4 0.3]\n",
            " [5.  3.4 1.5 0.2]\n",
            " [4.4 2.9 1.4 0.2]\n",
            " [4.9 3.1 1.5 0.1]]\n",
            "<class 'numpy.ndarray'>(150,)\n",
            "[0 0 0 0 0 0 0 0 0 0 0 0 0 0 0 0 0 0 0 0 0 0 0 0 0 0 0 0 0 0 0 0 0 0 0 0 0\n",
            " 0 0 0 0 0 0 0 0 0 0 0 0 0 1 1 1 1 1 1 1 1 1 1 1 1 1 1 1 1 1 1 1 1 1 1 1 1\n",
            " 1 1 1 1 1 1 1 1 1 1 1 1 1 1 1 1 1 1 1 1 1 1 1 1 1 1 2 2 2 2 2 2 2 2 2 2 2\n",
            " 2 2 2 2 2 2 2 2 2 2 2 2 2 2 2 2 2 2 2 2 2 2 2 2 2 2 2 2 2 2 2 2 2 2 2 2 2\n",
            " 2 2]\n"
          ]
        }
      ]
    },
    {
      "cell_type": "markdown",
      "metadata": {
        "id": "Ssxa52vX7nuY"
      },
      "source": [
        "4-2-3 データの前処理"
      ]
    },
    {
      "cell_type": "code",
      "metadata": {
        "colab": {
          "base_uri": "https://localhost:8080/"
        },
        "id": "ghw89AJT3vjH",
        "outputId": "138c00e8-e152-4d7f-d917-3dc8c527bc43"
      },
      "source": [
        "from sklearn import preprocessing\n",
        "from keras.utils import np_utils\n",
        "\n",
        "# ---- 入力 データ ----\n",
        "#今回は、入力データへの前処理として、入力の標準化を行います。\n",
        "#標準化は、平均値が0、標準偏差が1になるように変換する処理です。\n",
        "scaler = preprocessing.StandardScaler() #標準化のためのスケーラー\n",
        "scaler.fit(iris.data) #変換のためのパラメータを計算\n",
        "x = scaler.transform(iris.data) #データの変換\n",
        "print(type(x),end=''); print(x.shape)\n",
        "print(x[:10]) #入力を10件表示\n",
        "\n",
        "# ---- 正解データ ----\n",
        "t = np_utils.to_categorical(iris.target) #ラベルをone-hot表現に変換\n",
        "print(type(t),end=''); print(t.shape)\n",
        "print(t[:10]) #正解ラベルを10件表示"
      ],
      "execution_count": 28,
      "outputs": [
        {
          "output_type": "stream",
          "name": "stdout",
          "text": [
            "<class 'numpy.ndarray'>(150, 4)\n",
            "[[-0.90068117  1.01900435 -1.34022653 -1.3154443 ]\n",
            " [-1.14301691 -0.13197948 -1.34022653 -1.3154443 ]\n",
            " [-1.38535265  0.32841405 -1.39706395 -1.3154443 ]\n",
            " [-1.50652052  0.09821729 -1.2833891  -1.3154443 ]\n",
            " [-1.02184904  1.24920112 -1.34022653 -1.3154443 ]\n",
            " [-0.53717756  1.93979142 -1.16971425 -1.05217993]\n",
            " [-1.50652052  0.78880759 -1.34022653 -1.18381211]\n",
            " [-1.02184904  0.78880759 -1.2833891  -1.3154443 ]\n",
            " [-1.74885626 -0.36217625 -1.34022653 -1.3154443 ]\n",
            " [-1.14301691  0.09821729 -1.2833891  -1.44707648]]\n",
            "<class 'numpy.ndarray'>(150, 3)\n",
            "[[1. 0. 0.]\n",
            " [1. 0. 0.]\n",
            " [1. 0. 0.]\n",
            " [1. 0. 0.]\n",
            " [1. 0. 0.]\n",
            " [1. 0. 0.]\n",
            " [1. 0. 0.]\n",
            " [1. 0. 0.]\n",
            " [1. 0. 0.]\n",
            " [1. 0. 0.]]\n"
          ]
        }
      ]
    },
    {
      "cell_type": "markdown",
      "metadata": {
        "id": "JGOYiki3I5e0"
      },
      "source": [
        "4-2-4 訓練とテストデータ"
      ]
    },
    {
      "cell_type": "code",
      "metadata": {
        "colab": {
          "base_uri": "https://localhost:8080/"
        },
        "id": "nFfe7MBGI7XA",
        "outputId": "2e32571f-2b86-4d96-8a23-81f1ab1671df"
      },
      "source": [
        "from sklearn.model_selection import train_test_split\n",
        "\n",
        "# x_train: 訓練用の入力データ\n",
        "# x_test: テスト用の入力データ\n",
        "# t_train: 訓練用の正解データ\n",
        "# t_test: テスト用の正解データ\n",
        "# train_size=0.75: 75%が訓練用、25%がテスト用\n",
        "x_train, x_test, t_train, t_test = train_test_split(x, t, train_size=0.75)\n",
        "\n",
        "print(type(x_train),end=''); print(x_train.shape)\n",
        "print(type(x_test),end=''); print(x_test.shape)\n",
        "print(type(t_train),end=''); print(t_train.shape)\n",
        "print(type(t_test),end=''); print(t_test.shape)\n"
      ],
      "execution_count": 29,
      "outputs": [
        {
          "output_type": "stream",
          "name": "stdout",
          "text": [
            "<class 'numpy.ndarray'>(112, 4)\n",
            "<class 'numpy.ndarray'>(38, 4)\n",
            "<class 'numpy.ndarray'>(112, 3)\n",
            "<class 'numpy.ndarray'>(38, 3)\n"
          ]
        }
      ]
    },
    {
      "cell_type": "markdown",
      "metadata": {
        "id": "FHTqfPUqI8p9"
      },
      "source": [
        "4-2-5 モデルの構築"
      ]
    },
    {
      "cell_type": "code",
      "metadata": {
        "colab": {
          "base_uri": "https://localhost:8080/"
        },
        "id": "r9iU7m3wPB2D",
        "outputId": "4e75c594-2546-4c3f-f5d8-c3ba88000aa0"
      },
      "source": [
        "from tensorflow.keras.models import Sequential\n",
        "from tensorflow.keras.layers import Dense, Activation\n",
        "\n",
        "model = Sequential()\n",
        "\n",
        "model.add(Dense(32, input_dim=4)) # 4つの特徴が入力なので、入力の数は4、ニューロン数は32\n",
        "model.add(Activation('relu')) # 活性化関数（ReLU）を追加\n",
        "\n",
        "model.add(Dense(32)) # ニューロン数32の全結合層を追加\n",
        "model.add(Activation('relu')) # 活性化関数（ReLU）を追加\n",
        "\n",
        "model.add(Dense(3)) # 3つに分類するので、ニューロン数は3\n",
        "model.add(Activation('softmax')) # 3つ以上の分類にはソフトマックス関数を使用\n",
        "\n",
        "model.compile(optimizer='sgd', loss='categorical_crossentropy', metrics=['accuracy']) # モデルのコンパイル\n",
        "\n",
        "print(model.summary())"
      ],
      "execution_count": 30,
      "outputs": [
        {
          "output_type": "stream",
          "name": "stdout",
          "text": [
            "Model: \"sequential_1\"\n",
            "_________________________________________________________________\n",
            "Layer (type)                 Output Shape              Param #   \n",
            "=================================================================\n",
            "dense_3 (Dense)              (None, 32)                160       \n",
            "_________________________________________________________________\n",
            "activation_3 (Activation)    (None, 32)                0         \n",
            "_________________________________________________________________\n",
            "dense_4 (Dense)              (None, 32)                1056      \n",
            "_________________________________________________________________\n",
            "activation_4 (Activation)    (None, 32)                0         \n",
            "_________________________________________________________________\n",
            "dense_5 (Dense)              (None, 3)                 99        \n",
            "_________________________________________________________________\n",
            "activation_5 (Activation)    (None, 3)                 0         \n",
            "=================================================================\n",
            "Total params: 1,315\n",
            "Trainable params: 1,315\n",
            "Non-trainable params: 0\n",
            "_________________________________________________________________\n",
            "None\n"
          ]
        }
      ]
    },
    {
      "cell_type": "markdown",
      "metadata": {
        "id": "Mf31gkjJJBnq"
      },
      "source": [
        "4-2-6 学習"
      ]
    },
    {
      "cell_type": "code",
      "metadata": {
        "id": "RDDhE9wCS7zr",
        "outputId": "4caca423-e4af-40de-fd0a-cb7d46222b7d",
        "colab": {
          "base_uri": "https://localhost:8080/"
        }
      },
      "source": [
        "history = model.fit(x_train, t_train, epochs=30, batch_size=8)"
      ],
      "execution_count": 24,
      "outputs": [
        {
          "output_type": "stream",
          "name": "stdout",
          "text": [
            "Epoch 1/30\n",
            "14/14 [==============================] - 0s 2ms/step - loss: 0.3657 - accuracy: 0.8750\n",
            "Epoch 2/30\n",
            "14/14 [==============================] - 0s 2ms/step - loss: 0.3580 - accuracy: 0.8661\n",
            "Epoch 3/30\n",
            "14/14 [==============================] - 0s 2ms/step - loss: 0.3507 - accuracy: 0.8750\n",
            "Epoch 4/30\n",
            "14/14 [==============================] - 0s 2ms/step - loss: 0.3442 - accuracy: 0.8839\n",
            "Epoch 5/30\n",
            "14/14 [==============================] - 0s 2ms/step - loss: 0.3374 - accuracy: 0.8929\n",
            "Epoch 6/30\n",
            "14/14 [==============================] - 0s 1ms/step - loss: 0.3303 - accuracy: 0.8929\n",
            "Epoch 7/30\n",
            "14/14 [==============================] - 0s 2ms/step - loss: 0.3240 - accuracy: 0.8839\n",
            "Epoch 8/30\n",
            "14/14 [==============================] - 0s 2ms/step - loss: 0.3184 - accuracy: 0.8929\n",
            "Epoch 9/30\n",
            "14/14 [==============================] - 0s 2ms/step - loss: 0.3130 - accuracy: 0.8929\n",
            "Epoch 10/30\n",
            "14/14 [==============================] - 0s 3ms/step - loss: 0.3068 - accuracy: 0.8929\n",
            "Epoch 11/30\n",
            "14/14 [==============================] - 0s 2ms/step - loss: 0.3019 - accuracy: 0.8929\n",
            "Epoch 12/30\n",
            "14/14 [==============================] - 0s 2ms/step - loss: 0.2961 - accuracy: 0.9018\n",
            "Epoch 13/30\n",
            "14/14 [==============================] - 0s 2ms/step - loss: 0.2907 - accuracy: 0.8929\n",
            "Epoch 14/30\n",
            "14/14 [==============================] - 0s 2ms/step - loss: 0.2852 - accuracy: 0.9107\n",
            "Epoch 15/30\n",
            "14/14 [==============================] - 0s 2ms/step - loss: 0.2804 - accuracy: 0.9107\n",
            "Epoch 16/30\n",
            "14/14 [==============================] - 0s 2ms/step - loss: 0.2750 - accuracy: 0.9196\n",
            "Epoch 17/30\n",
            "14/14 [==============================] - 0s 2ms/step - loss: 0.2716 - accuracy: 0.9196\n",
            "Epoch 18/30\n",
            "14/14 [==============================] - 0s 2ms/step - loss: 0.2671 - accuracy: 0.9196\n",
            "Epoch 19/30\n",
            "14/14 [==============================] - 0s 2ms/step - loss: 0.2612 - accuracy: 0.9196\n",
            "Epoch 20/30\n",
            "14/14 [==============================] - 0s 2ms/step - loss: 0.2564 - accuracy: 0.9375\n",
            "Epoch 21/30\n",
            "14/14 [==============================] - 0s 2ms/step - loss: 0.2528 - accuracy: 0.9196\n",
            "Epoch 22/30\n",
            "14/14 [==============================] - 0s 2ms/step - loss: 0.2480 - accuracy: 0.9196\n",
            "Epoch 23/30\n",
            "14/14 [==============================] - 0s 2ms/step - loss: 0.2455 - accuracy: 0.9286\n",
            "Epoch 24/30\n",
            "14/14 [==============================] - 0s 2ms/step - loss: 0.2400 - accuracy: 0.9196\n",
            "Epoch 25/30\n",
            "14/14 [==============================] - 0s 2ms/step - loss: 0.2357 - accuracy: 0.9464\n",
            "Epoch 26/30\n",
            "14/14 [==============================] - 0s 2ms/step - loss: 0.2321 - accuracy: 0.9375\n",
            "Epoch 27/30\n",
            "14/14 [==============================] - 0s 2ms/step - loss: 0.2284 - accuracy: 0.9464\n",
            "Epoch 28/30\n",
            "14/14 [==============================] - 0s 2ms/step - loss: 0.2252 - accuracy: 0.9464\n",
            "Epoch 29/30\n",
            "14/14 [==============================] - 0s 1ms/step - loss: 0.2219 - accuracy: 0.9464\n",
            "Epoch 30/30\n",
            "14/14 [==============================] - 0s 2ms/step - loss: 0.2175 - accuracy: 0.9554\n"
          ]
        }
      ]
    },
    {
      "cell_type": "markdown",
      "metadata": {
        "id": "jDrjlC4ZJD4U"
      },
      "source": [
        "4-2-7 学習の推移"
      ]
    },
    {
      "cell_type": "code",
      "metadata": {
        "id": "Qg6xU4lDTDeJ",
        "outputId": "a60bc14c-3f45-4d96-f2b0-3992374648a2",
        "colab": {
          "base_uri": "https://localhost:8080/",
          "height": 265
        }
      },
      "source": [
        "import matplotlib.pyplot as plt\n",
        "\n",
        "hist_loss = history.history['loss']  # 訓練用データの誤差\n",
        "hist_acc = history.history['accuracy']  # 訓練用データの精度（正解率）\n",
        "\n",
        "plt.plot(np.arange(len(hist_loss)), hist_loss, label='loss')  # 誤差\n",
        "plt.plot(np.arange(len(hist_acc)), hist_acc, label='accuracy')  # 精度（正解率）\n",
        "plt.legend()\n",
        "plt.show()"
      ],
      "execution_count": 31,
      "outputs": [
        {
          "output_type": "display_data",
          "data": {
            "image/png": "[encoded data removed]",
            "text/plain": [
              "<Figure size 432x288 with 1 Axes>"
            ]
          },
          "metadata": {
            "needs_background": "light"
          }
        }
      ]
    },
    {
      "cell_type": "markdown",
      "metadata": {
        "id": "GdBjEZw4JdLB"
      },
      "source": [
        "4-2-8 評価"
      ]
    },
    {
      "cell_type": "markdown",
      "metadata": {
        "id": "STx3gJU6Ji96"
      },
      "source": [
        "4-2-9 予測"
      ]
    },
    {
      "cell_type": "markdown",
      "metadata": {
        "id": "wFbcAN6gJqJ5"
      },
      "source": [
        "4-2-10 モデルの保存"
      ]
    }
  ]
}